{
 "cells": [
  {
   "cell_type": "markdown",
   "metadata": {},
   "source": [
    "# Starbucks Capstone Challenge - Data Modeling"
   ]
  },
  {
   "cell_type": "markdown",
   "metadata": {},
   "source": [
    "## <a id=\"load\">Part I: Dependencies and data</a>"
   ]
  },
  {
   "cell_type": "code",
   "execution_count": 1,
   "metadata": {},
   "outputs": [],
   "source": [
    "%matplotlib inline\n",
    "import matplotlib.pyplot as plt\n",
    "import seaborn as sns\n",
    "import plotly.express as px\n",
    "import plotly.graph_objs as go\n",
    "import plotly.subplots as subplots\n",
    "sns.set()\n",
    "\n",
    "import gc\n",
    "import joblib\n",
    "import numpy as np\n",
    "import pandas as pd\n",
    "\n",
    "from sklearn.model_selection import train_test_split, cross_validate, GridSearchCV\n",
    "from sklearn.preprocessing import StandardScaler\n",
    "from sklearn.decomposition import PCA\n",
    "from sklearn.linear_model import LogisticRegression\n",
    "from sklearn.neighbors import KNeighborsClassifier\n",
    "from sklearn.svm import SVC\n",
    "from sklearn.tree import DecisionTreeClassifier\n",
    "from sklearn.ensemble import RandomForestClassifier\n",
    "from sklearn.metrics import accuracy_score, f1_score, roc_auc_score, log_loss,\\\n",
    "                            plot_confusion_matrix, classification_report as report\n"
   ]
  },
  {
   "cell_type": "code",
   "execution_count": 2,
   "metadata": {},
   "outputs": [
    {
     "name": "stdout",
     "output_type": "stream",
     "text": [
      "<class 'pandas.core.frame.DataFrame'>\n",
      "Int64Index: 148431 entries, 0 to 148430\n",
      "Data columns (total 32 columns):\n",
      " #   Column            Non-Null Count   Dtype         \n",
      "---  ------            --------------   -----         \n",
      " 0   index             148431 non-null  int64         \n",
      " 1   event             148431 non-null  object        \n",
      " 2   time              148431 non-null  int64         \n",
      " 3   offer_id          148431 non-null  int32         \n",
      " 4   user_id           148431 non-null  int64         \n",
      " 5   amount            148431 non-null  float64       \n",
      " 6   reward            148431 non-null  int64         \n",
      " 7   difficulty        148431 non-null  int64         \n",
      " 8   duration          148431 non-null  int64         \n",
      " 9   offer_type        148431 non-null  object        \n",
      " 10  mobile            148431 non-null  int64         \n",
      " 11  social            148431 non-null  int64         \n",
      " 12  web               148431 non-null  int64         \n",
      " 13  expire_time       148431 non-null  int64         \n",
      " 14  off_id_use_id     148431 non-null  object        \n",
      " 15  viewed            148431 non-null  int64         \n",
      " 16  completed         148431 non-null  int64         \n",
      " 17  group             148431 non-null  int64         \n",
      " 18  gender            148431 non-null  object        \n",
      " 19  age               148431 non-null  int64         \n",
      " 20  income            148431 non-null  int32         \n",
      " 21  user_date         148431 non-null  datetime64[ns]\n",
      " 22  signup_year       148431 non-null  int64         \n",
      " 23  age_group         148431 non-null  int32         \n",
      " 24  income_group      148431 non-null  int32         \n",
      " 25  spend_group       148431 non-null  int32         \n",
      " 26  frequency         148431 non-null  int32         \n",
      " 27  monetary          148431 non-null  float64       \n",
      " 28  tenure            148431 non-null  int64         \n",
      " 29  user_tier         148431 non-null  object        \n",
      " 30  cluster           148431 non-null  int32         \n",
      " 31  customer_cluster  148431 non-null  object        \n",
      "dtypes: datetime64[ns](1), float64(2), int32(7), int64(16), object(6)\n",
      "memory usage: 33.4+ MB\n"
     ]
    }
   ],
   "source": [
    "# Data\n",
    "offers = pd.read_pickle('../data/output2/offers.pkl')\n",
    "offers.info()"
   ]
  },
  {
   "cell_type": "markdown",
   "metadata": {},
   "source": [
    "## <a id=\"prep\">Part II: Data Preprocessing</a>\n",
    "\n",
    "#### 1. Extract offers\n",
    "\n",
    "Aim is to predict whether a user will respond to an offer if it is sent to them. So we are interest in \"offer received\" events."
   ]
  },
  {
   "cell_type": "code",
   "execution_count": 3,
   "metadata": {},
   "outputs": [
    {
     "data": {
      "text/html": [
       "<div>\n",
       "<style scoped>\n",
       "    .dataframe tbody tr th:only-of-type {\n",
       "        vertical-align: middle;\n",
       "    }\n",
       "\n",
       "    .dataframe tbody tr th {\n",
       "        vertical-align: top;\n",
       "    }\n",
       "\n",
       "    .dataframe thead th {\n",
       "        text-align: right;\n",
       "    }\n",
       "</style>\n",
       "<table border=\"1\" class=\"dataframe\">\n",
       "  <thead>\n",
       "    <tr style=\"text-align: right;\">\n",
       "      <th></th>\n",
       "      <th>index</th>\n",
       "      <th>event</th>\n",
       "      <th>time</th>\n",
       "      <th>offer_id</th>\n",
       "      <th>user_id</th>\n",
       "      <th>amount</th>\n",
       "      <th>reward</th>\n",
       "      <th>difficulty</th>\n",
       "      <th>duration</th>\n",
       "      <th>offer_type</th>\n",
       "      <th>...</th>\n",
       "      <th>signup_year</th>\n",
       "      <th>age_group</th>\n",
       "      <th>income_group</th>\n",
       "      <th>spend_group</th>\n",
       "      <th>frequency</th>\n",
       "      <th>monetary</th>\n",
       "      <th>tenure</th>\n",
       "      <th>user_tier</th>\n",
       "      <th>cluster</th>\n",
       "      <th>customer_cluster</th>\n",
       "    </tr>\n",
       "  </thead>\n",
       "  <tbody>\n",
       "    <tr>\n",
       "      <th>0</th>\n",
       "      <td>0</td>\n",
       "      <td>offer received</td>\n",
       "      <td>0</td>\n",
       "      <td>7</td>\n",
       "      <td>2</td>\n",
       "      <td>0.0</td>\n",
       "      <td>5</td>\n",
       "      <td>5</td>\n",
       "      <td>7</td>\n",
       "      <td>bogo</td>\n",
       "      <td>...</td>\n",
       "      <td>2017</td>\n",
       "      <td>5</td>\n",
       "      <td>5</td>\n",
       "      <td>8</td>\n",
       "      <td>7</td>\n",
       "      <td>159.27</td>\n",
       "      <td>15</td>\n",
       "      <td>Yellow</td>\n",
       "      <td>0</td>\n",
       "      <td>Female low spenders</td>\n",
       "    </tr>\n",
       "    <tr>\n",
       "      <th>1</th>\n",
       "      <td>2</td>\n",
       "      <td>offer received</td>\n",
       "      <td>0</td>\n",
       "      <td>5</td>\n",
       "      <td>3</td>\n",
       "      <td>0.0</td>\n",
       "      <td>2</td>\n",
       "      <td>10</td>\n",
       "      <td>7</td>\n",
       "      <td>discount</td>\n",
       "      <td>...</td>\n",
       "      <td>2018</td>\n",
       "      <td>4</td>\n",
       "      <td>3</td>\n",
       "      <td>4</td>\n",
       "      <td>3</td>\n",
       "      <td>57.73</td>\n",
       "      <td>4</td>\n",
       "      <td>Red</td>\n",
       "      <td>3</td>\n",
       "      <td>Male low spenders</td>\n",
       "    </tr>\n",
       "    <tr>\n",
       "      <th>2</th>\n",
       "      <td>5</td>\n",
       "      <td>offer received</td>\n",
       "      <td>0</td>\n",
       "      <td>8</td>\n",
       "      <td>4</td>\n",
       "      <td>0.0</td>\n",
       "      <td>5</td>\n",
       "      <td>5</td>\n",
       "      <td>5</td>\n",
       "      <td>bogo</td>\n",
       "      <td>...</td>\n",
       "      <td>2018</td>\n",
       "      <td>4</td>\n",
       "      <td>2</td>\n",
       "      <td>3</td>\n",
       "      <td>3</td>\n",
       "      <td>36.43</td>\n",
       "      <td>6</td>\n",
       "      <td>Red</td>\n",
       "      <td>3</td>\n",
       "      <td>Male low spenders</td>\n",
       "    </tr>\n",
       "    <tr>\n",
       "      <th>3</th>\n",
       "      <td>7</td>\n",
       "      <td>offer received</td>\n",
       "      <td>0</td>\n",
       "      <td>1</td>\n",
       "      <td>5</td>\n",
       "      <td>0.0</td>\n",
       "      <td>0</td>\n",
       "      <td>0</td>\n",
       "      <td>4</td>\n",
       "      <td>informational</td>\n",
       "      <td>...</td>\n",
       "      <td>2017</td>\n",
       "      <td>3</td>\n",
       "      <td>2</td>\n",
       "      <td>2</td>\n",
       "      <td>3</td>\n",
       "      <td>15.62</td>\n",
       "      <td>9</td>\n",
       "      <td>Red</td>\n",
       "      <td>3</td>\n",
       "      <td>Male low spenders</td>\n",
       "    </tr>\n",
       "    <tr>\n",
       "      <th>4</th>\n",
       "      <td>8</td>\n",
       "      <td>offer received</td>\n",
       "      <td>0</td>\n",
       "      <td>6</td>\n",
       "      <td>6</td>\n",
       "      <td>0.0</td>\n",
       "      <td>5</td>\n",
       "      <td>20</td>\n",
       "      <td>10</td>\n",
       "      <td>discount</td>\n",
       "      <td>...</td>\n",
       "      <td>2017</td>\n",
       "      <td>4</td>\n",
       "      <td>2</td>\n",
       "      <td>5</td>\n",
       "      <td>6</td>\n",
       "      <td>85.55</td>\n",
       "      <td>11</td>\n",
       "      <td>Yellow</td>\n",
       "      <td>0</td>\n",
       "      <td>Female low spenders</td>\n",
       "    </tr>\n",
       "  </tbody>\n",
       "</table>\n",
       "<p>5 rows × 32 columns</p>\n",
       "</div>"
      ],
      "text/plain": [
       "   index           event  time  offer_id  user_id  amount  reward  difficulty  \\\n",
       "0      0  offer received     0         7        2     0.0       5           5   \n",
       "1      2  offer received     0         5        3     0.0       2          10   \n",
       "2      5  offer received     0         8        4     0.0       5           5   \n",
       "3      7  offer received     0         1        5     0.0       0           0   \n",
       "4      8  offer received     0         6        6     0.0       5          20   \n",
       "\n",
       "   duration     offer_type  ...  signup_year  age_group  income_group  \\\n",
       "0         7           bogo  ...         2017          5             5   \n",
       "1         7       discount  ...         2018          4             3   \n",
       "2         5           bogo  ...         2018          4             2   \n",
       "3         4  informational  ...         2017          3             2   \n",
       "4        10       discount  ...         2017          4             2   \n",
       "\n",
       "   spend_group frequency  monetary  tenure  user_tier cluster  \\\n",
       "0            8         7    159.27      15     Yellow       0   \n",
       "1            4         3     57.73       4        Red       3   \n",
       "2            3         3     36.43       6        Red       3   \n",
       "3            2         3     15.62       9        Red       3   \n",
       "4            5         6     85.55      11     Yellow       0   \n",
       "\n",
       "      customer_cluster  \n",
       "0  Female low spenders  \n",
       "1    Male low spenders  \n",
       "2    Male low spenders  \n",
       "3    Male low spenders  \n",
       "4  Female low spenders  \n",
       "\n",
       "[5 rows x 32 columns]"
      ]
     },
     "execution_count": 3,
     "metadata": {},
     "output_type": "execute_result"
    }
   ],
   "source": [
    "df = offers.query('event == \"offer received\"').copy()\n",
    "df.head()"
   ]
  },
  {
   "cell_type": "code",
   "execution_count": 4,
   "metadata": {},
   "outputs": [
    {
     "name": "stdout",
     "output_type": "stream",
     "text": [
      "<class 'pandas.core.frame.DataFrame'>\n",
      "Int64Index: 66501 entries, 0 to 132146\n",
      "Data columns (total 21 columns):\n",
      " #   Column        Non-Null Count  Dtype  \n",
      "---  ------        --------------  -----  \n",
      " 0   offer_id      66501 non-null  int32  \n",
      " 1   user_id       66501 non-null  int64  \n",
      " 2   reward        66501 non-null  int64  \n",
      " 3   difficulty    66501 non-null  int64  \n",
      " 4   duration      66501 non-null  int64  \n",
      " 5   offer_type    66501 non-null  object \n",
      " 6   mobile        66501 non-null  int64  \n",
      " 7   social        66501 non-null  int64  \n",
      " 8   web           66501 non-null  int64  \n",
      " 9   viewed        66501 non-null  int64  \n",
      " 10  completed     66501 non-null  int64  \n",
      " 11  group         66501 non-null  int64  \n",
      " 12  gender        66501 non-null  object \n",
      " 13  age           66501 non-null  int64  \n",
      " 14  income        66501 non-null  int32  \n",
      " 15  age_group     66501 non-null  int32  \n",
      " 16  income_group  66501 non-null  int32  \n",
      " 17  spend_group   66501 non-null  int32  \n",
      " 18  frequency     66501 non-null  int32  \n",
      " 19  monetary      66501 non-null  float64\n",
      " 20  tenure        66501 non-null  int64  \n",
      "dtypes: float64(1), int32(6), int64(12), object(2)\n",
      "memory usage: 9.6+ MB\n"
     ]
    }
   ],
   "source": [
    "# Drop columns that won't be used\n",
    "col_drop = ['index', 'event', 'time', 'amount', 'expire_time', 'off_id_use_id',\n",
    "           'user_date', 'signup_year', 'user_tier', 'customer_cluster', 'cluster']\n",
    "df.drop(col_drop, axis=1, inplace=True)\n",
    "df.info()"
   ]
  },
  {
   "cell_type": "markdown",
   "metadata": {},
   "source": [
    "#### 2. Analyse Categorical variables"
   ]
  },
  {
   "cell_type": "code",
   "execution_count": 5,
   "metadata": {},
   "outputs": [
    {
     "name": "stdout",
     "output_type": "stream",
     "text": [
      "13300 26664 26537\n"
     ]
    },
    {
     "data": {
      "text/plain": [
       "discount         26664\n",
       "bogo             26537\n",
       "informational    13300\n",
       "Name: offer_type, dtype: int64"
      ]
     },
     "execution_count": 5,
     "metadata": {},
     "output_type": "execute_result"
    }
   ],
   "source": [
    "# offer type\n",
    "df['info_offer'] = df.offer_type.apply(lambda t: int(t == 'informational'))\n",
    "df['disc_offer'] = df.offer_type.apply(lambda t: int(t == 'discount'))\n",
    "df['bogo_offer'] = df.offer_type.apply(lambda t: int(t == 'bogo'))\n",
    "print(df.info_offer.sum(), df.disc_offer.sum(), df.bogo_offer.sum())\n",
    "df.offer_type.value_counts()"
   ]
  },
  {
   "cell_type": "code",
   "execution_count": 6,
   "metadata": {},
   "outputs": [
    {
     "name": "stdout",
     "output_type": "stream",
     "text": [
      "38129\n"
     ]
    },
    {
     "data": {
      "text/plain": [
       "M    38129\n",
       "F    27456\n",
       "O      916\n",
       "Name: gender, dtype: int64"
      ]
     },
     "execution_count": 6,
     "metadata": {},
     "output_type": "execute_result"
    }
   ],
   "source": [
    "# gender\n",
    "df['male'] = df.gender.apply(lambda g: int(g == 'M'))\n",
    "print(df.male.sum())\n",
    "df.gender.value_counts()"
   ]
  },
  {
   "cell_type": "code",
   "execution_count": 7,
   "metadata": {},
   "outputs": [
    {
     "data": {
      "text/plain": [
       "(66501, 23)"
      ]
     },
     "execution_count": 7,
     "metadata": {},
     "output_type": "execute_result"
    }
   ],
   "source": [
    "# Drop categorical columns\n",
    "col_drop1 = ['offer_type', 'gender']\n",
    "df.drop(col_drop1, axis=1, inplace=True)\n",
    "df.shape"
   ]
  },
  {
   "cell_type": "markdown",
   "metadata": {},
   "source": [
    "Drop the offer type and age column."
   ]
  },
  {
   "cell_type": "markdown",
   "metadata": {},
   "source": [
    "#### 3. Create target label\n",
    "\n",
    "The target is to predict whether the offer is viewed and completed. If the offer is completed without viewing it first as user was not aware of the offer and spent the money anyway. This means there was no point in sending an offer to that customer."
   ]
  },
  {
   "cell_type": "code",
   "execution_count": 8,
   "metadata": {},
   "outputs": [
    {
     "data": {
      "text/plain": [
       "0    38659\n",
       "1    27842\n",
       "Name: target, dtype: int64"
      ]
     },
     "execution_count": 8,
     "metadata": {},
     "output_type": "execute_result"
    }
   ],
   "source": [
    "df['target'] = df.apply(lambda o: int(o.viewed == o.completed == 1), axis=1)\n",
    "df.target.value_counts()"
   ]
  },
  {
   "cell_type": "code",
   "execution_count": 9,
   "metadata": {},
   "outputs": [
    {
     "data": {
      "text/html": [
       "<div>\n",
       "<style scoped>\n",
       "    .dataframe tbody tr th:only-of-type {\n",
       "        vertical-align: middle;\n",
       "    }\n",
       "\n",
       "    .dataframe tbody tr th {\n",
       "        vertical-align: top;\n",
       "    }\n",
       "\n",
       "    .dataframe thead th {\n",
       "        text-align: right;\n",
       "    }\n",
       "</style>\n",
       "<table border=\"1\" class=\"dataframe\">\n",
       "  <thead>\n",
       "    <tr style=\"text-align: right;\">\n",
       "      <th></th>\n",
       "      <th>offer_id</th>\n",
       "      <th>user_id</th>\n",
       "      <th>reward</th>\n",
       "      <th>difficulty</th>\n",
       "      <th>duration</th>\n",
       "      <th>mobile</th>\n",
       "      <th>social</th>\n",
       "      <th>web</th>\n",
       "      <th>viewed</th>\n",
       "      <th>completed</th>\n",
       "      <th>...</th>\n",
       "      <th>income_group</th>\n",
       "      <th>spend_group</th>\n",
       "      <th>frequency</th>\n",
       "      <th>monetary</th>\n",
       "      <th>tenure</th>\n",
       "      <th>info_offer</th>\n",
       "      <th>disc_offer</th>\n",
       "      <th>bogo_offer</th>\n",
       "      <th>male</th>\n",
       "      <th>target</th>\n",
       "    </tr>\n",
       "  </thead>\n",
       "  <tbody>\n",
       "    <tr>\n",
       "      <th>0</th>\n",
       "      <td>7</td>\n",
       "      <td>2</td>\n",
       "      <td>5</td>\n",
       "      <td>5</td>\n",
       "      <td>7</td>\n",
       "      <td>1</td>\n",
       "      <td>0</td>\n",
       "      <td>1</td>\n",
       "      <td>1</td>\n",
       "      <td>1</td>\n",
       "      <td>...</td>\n",
       "      <td>5</td>\n",
       "      <td>8</td>\n",
       "      <td>7</td>\n",
       "      <td>159.27</td>\n",
       "      <td>15</td>\n",
       "      <td>0</td>\n",
       "      <td>0</td>\n",
       "      <td>1</td>\n",
       "      <td>0</td>\n",
       "      <td>1</td>\n",
       "    </tr>\n",
       "    <tr>\n",
       "      <th>1</th>\n",
       "      <td>5</td>\n",
       "      <td>3</td>\n",
       "      <td>2</td>\n",
       "      <td>10</td>\n",
       "      <td>7</td>\n",
       "      <td>1</td>\n",
       "      <td>0</td>\n",
       "      <td>1</td>\n",
       "      <td>1</td>\n",
       "      <td>0</td>\n",
       "      <td>...</td>\n",
       "      <td>3</td>\n",
       "      <td>4</td>\n",
       "      <td>3</td>\n",
       "      <td>57.73</td>\n",
       "      <td>4</td>\n",
       "      <td>0</td>\n",
       "      <td>1</td>\n",
       "      <td>0</td>\n",
       "      <td>1</td>\n",
       "      <td>0</td>\n",
       "    </tr>\n",
       "    <tr>\n",
       "      <th>2</th>\n",
       "      <td>8</td>\n",
       "      <td>4</td>\n",
       "      <td>5</td>\n",
       "      <td>5</td>\n",
       "      <td>5</td>\n",
       "      <td>1</td>\n",
       "      <td>1</td>\n",
       "      <td>1</td>\n",
       "      <td>1</td>\n",
       "      <td>1</td>\n",
       "      <td>...</td>\n",
       "      <td>2</td>\n",
       "      <td>3</td>\n",
       "      <td>3</td>\n",
       "      <td>36.43</td>\n",
       "      <td>6</td>\n",
       "      <td>0</td>\n",
       "      <td>0</td>\n",
       "      <td>1</td>\n",
       "      <td>1</td>\n",
       "      <td>1</td>\n",
       "    </tr>\n",
       "    <tr>\n",
       "      <th>3</th>\n",
       "      <td>1</td>\n",
       "      <td>5</td>\n",
       "      <td>0</td>\n",
       "      <td>0</td>\n",
       "      <td>4</td>\n",
       "      <td>1</td>\n",
       "      <td>0</td>\n",
       "      <td>1</td>\n",
       "      <td>0</td>\n",
       "      <td>0</td>\n",
       "      <td>...</td>\n",
       "      <td>2</td>\n",
       "      <td>2</td>\n",
       "      <td>3</td>\n",
       "      <td>15.62</td>\n",
       "      <td>9</td>\n",
       "      <td>1</td>\n",
       "      <td>0</td>\n",
       "      <td>0</td>\n",
       "      <td>1</td>\n",
       "      <td>0</td>\n",
       "    </tr>\n",
       "    <tr>\n",
       "      <th>4</th>\n",
       "      <td>6</td>\n",
       "      <td>6</td>\n",
       "      <td>5</td>\n",
       "      <td>20</td>\n",
       "      <td>10</td>\n",
       "      <td>0</td>\n",
       "      <td>0</td>\n",
       "      <td>1</td>\n",
       "      <td>1</td>\n",
       "      <td>0</td>\n",
       "      <td>...</td>\n",
       "      <td>2</td>\n",
       "      <td>5</td>\n",
       "      <td>6</td>\n",
       "      <td>85.55</td>\n",
       "      <td>11</td>\n",
       "      <td>0</td>\n",
       "      <td>1</td>\n",
       "      <td>0</td>\n",
       "      <td>0</td>\n",
       "      <td>0</td>\n",
       "    </tr>\n",
       "    <tr>\n",
       "      <th>...</th>\n",
       "      <td>...</td>\n",
       "      <td>...</td>\n",
       "      <td>...</td>\n",
       "      <td>...</td>\n",
       "      <td>...</td>\n",
       "      <td>...</td>\n",
       "      <td>...</td>\n",
       "      <td>...</td>\n",
       "      <td>...</td>\n",
       "      <td>...</td>\n",
       "      <td>...</td>\n",
       "      <td>...</td>\n",
       "      <td>...</td>\n",
       "      <td>...</td>\n",
       "      <td>...</td>\n",
       "      <td>...</td>\n",
       "      <td>...</td>\n",
       "      <td>...</td>\n",
       "      <td>...</td>\n",
       "      <td>...</td>\n",
       "      <td>...</td>\n",
       "    </tr>\n",
       "    <tr>\n",
       "      <th>132142</th>\n",
       "      <td>9</td>\n",
       "      <td>14788</td>\n",
       "      <td>10</td>\n",
       "      <td>10</td>\n",
       "      <td>7</td>\n",
       "      <td>1</td>\n",
       "      <td>1</td>\n",
       "      <td>0</td>\n",
       "      <td>0</td>\n",
       "      <td>1</td>\n",
       "      <td>...</td>\n",
       "      <td>2</td>\n",
       "      <td>10</td>\n",
       "      <td>10</td>\n",
       "      <td>530.96</td>\n",
       "      <td>22</td>\n",
       "      <td>0</td>\n",
       "      <td>0</td>\n",
       "      <td>1</td>\n",
       "      <td>1</td>\n",
       "      <td>0</td>\n",
       "    </tr>\n",
       "    <tr>\n",
       "      <th>132143</th>\n",
       "      <td>5</td>\n",
       "      <td>14820</td>\n",
       "      <td>2</td>\n",
       "      <td>10</td>\n",
       "      <td>7</td>\n",
       "      <td>1</td>\n",
       "      <td>0</td>\n",
       "      <td>1</td>\n",
       "      <td>0</td>\n",
       "      <td>0</td>\n",
       "      <td>...</td>\n",
       "      <td>5</td>\n",
       "      <td>7</td>\n",
       "      <td>5</td>\n",
       "      <td>115.59</td>\n",
       "      <td>3</td>\n",
       "      <td>0</td>\n",
       "      <td>1</td>\n",
       "      <td>0</td>\n",
       "      <td>1</td>\n",
       "      <td>0</td>\n",
       "    </tr>\n",
       "    <tr>\n",
       "      <th>132144</th>\n",
       "      <td>3</td>\n",
       "      <td>14821</td>\n",
       "      <td>3</td>\n",
       "      <td>7</td>\n",
       "      <td>7</td>\n",
       "      <td>1</td>\n",
       "      <td>1</td>\n",
       "      <td>1</td>\n",
       "      <td>1</td>\n",
       "      <td>0</td>\n",
       "      <td>...</td>\n",
       "      <td>2</td>\n",
       "      <td>2</td>\n",
       "      <td>7</td>\n",
       "      <td>20.03</td>\n",
       "      <td>2</td>\n",
       "      <td>0</td>\n",
       "      <td>1</td>\n",
       "      <td>0</td>\n",
       "      <td>0</td>\n",
       "      <td>0</td>\n",
       "    </tr>\n",
       "    <tr>\n",
       "      <th>132145</th>\n",
       "      <td>9</td>\n",
       "      <td>14824</td>\n",
       "      <td>10</td>\n",
       "      <td>10</td>\n",
       "      <td>7</td>\n",
       "      <td>1</td>\n",
       "      <td>1</td>\n",
       "      <td>0</td>\n",
       "      <td>0</td>\n",
       "      <td>1</td>\n",
       "      <td>...</td>\n",
       "      <td>2</td>\n",
       "      <td>9</td>\n",
       "      <td>14</td>\n",
       "      <td>189.67</td>\n",
       "      <td>30</td>\n",
       "      <td>0</td>\n",
       "      <td>0</td>\n",
       "      <td>1</td>\n",
       "      <td>0</td>\n",
       "      <td>0</td>\n",
       "    </tr>\n",
       "    <tr>\n",
       "      <th>132146</th>\n",
       "      <td>1</td>\n",
       "      <td>14825</td>\n",
       "      <td>0</td>\n",
       "      <td>0</td>\n",
       "      <td>4</td>\n",
       "      <td>1</td>\n",
       "      <td>0</td>\n",
       "      <td>1</td>\n",
       "      <td>0</td>\n",
       "      <td>0</td>\n",
       "      <td>...</td>\n",
       "      <td>4</td>\n",
       "      <td>7</td>\n",
       "      <td>6</td>\n",
       "      <td>143.02</td>\n",
       "      <td>13</td>\n",
       "      <td>1</td>\n",
       "      <td>0</td>\n",
       "      <td>0</td>\n",
       "      <td>0</td>\n",
       "      <td>0</td>\n",
       "    </tr>\n",
       "  </tbody>\n",
       "</table>\n",
       "<p>66501 rows × 24 columns</p>\n",
       "</div>"
      ],
      "text/plain": [
       "        offer_id  user_id  reward  difficulty  duration  mobile  social  web  \\\n",
       "0              7        2       5           5         7       1       0    1   \n",
       "1              5        3       2          10         7       1       0    1   \n",
       "2              8        4       5           5         5       1       1    1   \n",
       "3              1        5       0           0         4       1       0    1   \n",
       "4              6        6       5          20        10       0       0    1   \n",
       "...          ...      ...     ...         ...       ...     ...     ...  ...   \n",
       "132142         9    14788      10          10         7       1       1    0   \n",
       "132143         5    14820       2          10         7       1       0    1   \n",
       "132144         3    14821       3           7         7       1       1    1   \n",
       "132145         9    14824      10          10         7       1       1    0   \n",
       "132146         1    14825       0           0         4       1       0    1   \n",
       "\n",
       "        viewed  completed  ...  income_group  spend_group  frequency  \\\n",
       "0            1          1  ...             5            8          7   \n",
       "1            1          0  ...             3            4          3   \n",
       "2            1          1  ...             2            3          3   \n",
       "3            0          0  ...             2            2          3   \n",
       "4            1          0  ...             2            5          6   \n",
       "...        ...        ...  ...           ...          ...        ...   \n",
       "132142       0          1  ...             2           10         10   \n",
       "132143       0          0  ...             5            7          5   \n",
       "132144       1          0  ...             2            2          7   \n",
       "132145       0          1  ...             2            9         14   \n",
       "132146       0          0  ...             4            7          6   \n",
       "\n",
       "        monetary  tenure  info_offer  disc_offer  bogo_offer  male  target  \n",
       "0         159.27      15           0           0           1     0       1  \n",
       "1          57.73       4           0           1           0     1       0  \n",
       "2          36.43       6           0           0           1     1       1  \n",
       "3          15.62       9           1           0           0     1       0  \n",
       "4          85.55      11           0           1           0     0       0  \n",
       "...          ...     ...         ...         ...         ...   ...     ...  \n",
       "132142    530.96      22           0           0           1     1       0  \n",
       "132143    115.59       3           0           1           0     1       0  \n",
       "132144     20.03       2           0           1           0     0       0  \n",
       "132145    189.67      30           0           0           1     0       0  \n",
       "132146    143.02      13           1           0           0     0       0  \n",
       "\n",
       "[66501 rows x 24 columns]"
      ]
     },
     "execution_count": 9,
     "metadata": {},
     "output_type": "execute_result"
    }
   ],
   "source": [
    "df"
   ]
  },
  {
   "cell_type": "code",
   "execution_count": 10,
   "metadata": {},
   "outputs": [
    {
     "data": {
      "text/plain": [
       "(66501, 17)"
      ]
     },
     "execution_count": 10,
     "metadata": {},
     "output_type": "execute_result"
    }
   ],
   "source": [
    "drop_col = ['offer_id', 'user_id', 'age_group', 'income_group', 'viewed', 'completed', 'group']\n",
    "df.drop(drop_col, axis=1, inplace=True)\n",
    "df.shape"
   ]
  },
  {
   "cell_type": "markdown",
   "metadata": {},
   "source": [
    "#### 4. Target variable"
   ]
  },
  {
   "cell_type": "code",
   "execution_count": 11,
   "metadata": {},
   "outputs": [
    {
     "name": "stdout",
     "output_type": "stream",
     "text": [
      "(55684, 17)\n"
     ]
    },
    {
     "data": {
      "text/html": [
       "<div>\n",
       "<style scoped>\n",
       "    .dataframe tbody tr th:only-of-type {\n",
       "        vertical-align: middle;\n",
       "    }\n",
       "\n",
       "    .dataframe tbody tr th {\n",
       "        vertical-align: top;\n",
       "    }\n",
       "\n",
       "    .dataframe thead th {\n",
       "        text-align: right;\n",
       "    }\n",
       "</style>\n",
       "<table border=\"1\" class=\"dataframe\">\n",
       "  <thead>\n",
       "    <tr style=\"text-align: right;\">\n",
       "      <th></th>\n",
       "      <th>reward</th>\n",
       "      <th>difficulty</th>\n",
       "      <th>duration</th>\n",
       "      <th>mobile</th>\n",
       "      <th>social</th>\n",
       "      <th>web</th>\n",
       "      <th>age</th>\n",
       "      <th>income</th>\n",
       "      <th>spend_group</th>\n",
       "      <th>frequency</th>\n",
       "      <th>monetary</th>\n",
       "      <th>tenure</th>\n",
       "      <th>info_offer</th>\n",
       "      <th>disc_offer</th>\n",
       "      <th>bogo_offer</th>\n",
       "      <th>male</th>\n",
       "      <th>target</th>\n",
       "    </tr>\n",
       "  </thead>\n",
       "  <tbody>\n",
       "    <tr>\n",
       "      <th>0</th>\n",
       "      <td>5</td>\n",
       "      <td>5</td>\n",
       "      <td>7</td>\n",
       "      <td>1</td>\n",
       "      <td>0</td>\n",
       "      <td>1</td>\n",
       "      <td>75</td>\n",
       "      <td>100000</td>\n",
       "      <td>8</td>\n",
       "      <td>7</td>\n",
       "      <td>159.27</td>\n",
       "      <td>15</td>\n",
       "      <td>0</td>\n",
       "      <td>0</td>\n",
       "      <td>1</td>\n",
       "      <td>0</td>\n",
       "      <td>1</td>\n",
       "    </tr>\n",
       "    <tr>\n",
       "      <th>1</th>\n",
       "      <td>2</td>\n",
       "      <td>10</td>\n",
       "      <td>7</td>\n",
       "      <td>1</td>\n",
       "      <td>0</td>\n",
       "      <td>1</td>\n",
       "      <td>68</td>\n",
       "      <td>70000</td>\n",
       "      <td>4</td>\n",
       "      <td>3</td>\n",
       "      <td>57.73</td>\n",
       "      <td>4</td>\n",
       "      <td>0</td>\n",
       "      <td>1</td>\n",
       "      <td>0</td>\n",
       "      <td>1</td>\n",
       "      <td>0</td>\n",
       "    </tr>\n",
       "    <tr>\n",
       "      <th>2</th>\n",
       "      <td>5</td>\n",
       "      <td>5</td>\n",
       "      <td>5</td>\n",
       "      <td>1</td>\n",
       "      <td>1</td>\n",
       "      <td>1</td>\n",
       "      <td>65</td>\n",
       "      <td>53000</td>\n",
       "      <td>3</td>\n",
       "      <td>3</td>\n",
       "      <td>36.43</td>\n",
       "      <td>6</td>\n",
       "      <td>0</td>\n",
       "      <td>0</td>\n",
       "      <td>1</td>\n",
       "      <td>1</td>\n",
       "      <td>1</td>\n",
       "    </tr>\n",
       "    <tr>\n",
       "      <th>3</th>\n",
       "      <td>0</td>\n",
       "      <td>0</td>\n",
       "      <td>4</td>\n",
       "      <td>1</td>\n",
       "      <td>0</td>\n",
       "      <td>1</td>\n",
       "      <td>58</td>\n",
       "      <td>51000</td>\n",
       "      <td>2</td>\n",
       "      <td>3</td>\n",
       "      <td>15.62</td>\n",
       "      <td>9</td>\n",
       "      <td>1</td>\n",
       "      <td>0</td>\n",
       "      <td>0</td>\n",
       "      <td>1</td>\n",
       "      <td>0</td>\n",
       "    </tr>\n",
       "    <tr>\n",
       "      <th>4</th>\n",
       "      <td>5</td>\n",
       "      <td>20</td>\n",
       "      <td>10</td>\n",
       "      <td>0</td>\n",
       "      <td>0</td>\n",
       "      <td>1</td>\n",
       "      <td>61</td>\n",
       "      <td>57000</td>\n",
       "      <td>5</td>\n",
       "      <td>6</td>\n",
       "      <td>85.55</td>\n",
       "      <td>11</td>\n",
       "      <td>0</td>\n",
       "      <td>1</td>\n",
       "      <td>0</td>\n",
       "      <td>0</td>\n",
       "      <td>0</td>\n",
       "    </tr>\n",
       "  </tbody>\n",
       "</table>\n",
       "</div>"
      ],
      "text/plain": [
       "   reward  difficulty  duration  mobile  social  web  age  income  \\\n",
       "0       5           5         7       1       0    1   75  100000   \n",
       "1       2          10         7       1       0    1   68   70000   \n",
       "2       5           5         5       1       1    1   65   53000   \n",
       "3       0           0         4       1       0    1   58   51000   \n",
       "4       5          20        10       0       0    1   61   57000   \n",
       "\n",
       "   spend_group  frequency  monetary  tenure  info_offer  disc_offer  \\\n",
       "0            8          7    159.27      15           0           0   \n",
       "1            4          3     57.73       4           0           1   \n",
       "2            3          3     36.43       6           0           0   \n",
       "3            2          3     15.62       9           1           0   \n",
       "4            5          6     85.55      11           0           1   \n",
       "\n",
       "   bogo_offer  male  target  \n",
       "0           1     0       1  \n",
       "1           0     1       0  \n",
       "2           1     1       1  \n",
       "3           0     1       0  \n",
       "4           0     0       0  "
      ]
     },
     "execution_count": 11,
     "metadata": {},
     "output_type": "execute_result"
    }
   ],
   "source": [
    "df = pd.concat([df.query('target == 1'), df.query('target == 0').sample(27842, random_state=0)]).sort_index()\n",
    "print(df.shape)\n",
    "df.head()"
   ]
  },
  {
   "cell_type": "code",
   "execution_count": 12,
   "metadata": {},
   "outputs": [
    {
     "data": {
      "text/plain": [
       "1    27842\n",
       "0    27842\n",
       "Name: target, dtype: int64"
      ]
     },
     "execution_count": 12,
     "metadata": {},
     "output_type": "execute_result"
    }
   ],
   "source": [
    "df.target.value_counts()"
   ]
  },
  {
   "cell_type": "markdown",
   "metadata": {},
   "source": [
    "#### 5. Split data into 3 sets"
   ]
  },
  {
   "cell_type": "code",
   "execution_count": 13,
   "metadata": {},
   "outputs": [
    {
     "data": {
      "text/plain": [
       "((55684, 16), (55684,))"
      ]
     },
     "execution_count": 13,
     "metadata": {},
     "output_type": "execute_result"
    }
   ],
   "source": [
    "X = df.drop('target', axis=1).copy() # features\n",
    "Y = df['target'].copy() # target label\n",
    "X.shape, Y.shape"
   ]
  },
  {
   "cell_type": "code",
   "execution_count": 14,
   "metadata": {},
   "outputs": [
    {
     "data": {
      "text/plain": [
       "((27842, 16), (27842, 16), (27842,), (27842,))"
      ]
     },
     "execution_count": 14,
     "metadata": {},
     "output_type": "execute_result"
    }
   ],
   "source": [
    "# Split test and train set (50%)\n",
    "X_train, X_test, Y_train, Y_test = train_test_split(X, Y, train_size=0.5, random_state=0)\n",
    "X_train.shape, X_test.shape, Y_train.shape, Y_test.shape"
   ]
  },
  {
   "cell_type": "code",
   "execution_count": 15,
   "metadata": {},
   "outputs": [
    {
     "data": {
      "text/plain": [
       "((13921, 16), (13921, 16), (13921,), (13921,))"
      ]
     },
     "execution_count": 15,
     "metadata": {},
     "output_type": "execute_result"
    }
   ],
   "source": [
    "# Second split - validation and test sets (50% each)\n",
    "X_valid, X_testv, Y_valid, Y_testv = train_test_split(X_test, Y_test, train_size=0.5, random_state=0)\n",
    "X_valid.shape, X_testv.shape, Y_valid.shape, Y_testv.shape"
   ]
  },
  {
   "cell_type": "code",
   "execution_count": 16,
   "metadata": {},
   "outputs": [
    {
     "name": "stdout",
     "output_type": "stream",
     "text": [
      "Proportion of offers completed in:\n",
      "Train set: 0.5041304503986782\n",
      "Validation set: 0.4928525249622872\n",
      "Test set: 0.4988865742403563\n"
     ]
    }
   ],
   "source": [
    "# Class ratio for train and test sets\n",
    "print('Proportion of offers completed in:')\n",
    "print('Train set:', Y_train.mean())\n",
    "print('Validation set:', Y_valid.mean())\n",
    "print('Test set:', Y_testv.mean())"
   ]
  },
  {
   "cell_type": "markdown",
   "metadata": {},
   "source": [
    "#### 6.Correlation"
   ]
  },
  {
   "cell_type": "code",
   "execution_count": 17,
   "metadata": {},
   "outputs": [
    {
     "data": {
      "image/png": "[encoded data removed]",
      "text/plain": [
       "<Figure size 720x504 with 2 Axes>"
      ]
     },
     "metadata": {},
     "output_type": "display_data"
    }
   ],
   "source": [
    "plt.figure(figsize=(10,7))\n",
    "sns.heatmap(X_train.corr(), annot=True, vmin=-1, vmax=1, fmt='.2f', cmap='coolwarm')\n",
    "plt.title('Feature Correlation', fontsize='x-large')\n",
    "plt.xticks(rotation=60, ha='right');"
   ]
  },
  {
   "cell_type": "code",
   "execution_count": 18,
   "metadata": {},
   "outputs": [
    {
     "data": {
      "text/plain": [
       "array(['age', 'difficulty', 'frequency', 'income', 'male', 'monetary',\n",
       "       'reward', 'social', 'spend_group', 'tenure', 'web'], dtype=object)"
      ]
     },
     "execution_count": 18,
     "metadata": {},
     "output_type": "execute_result"
    }
   ],
   "source": [
    "high_corr = ['duration', 'mobile', 'info_offer', 'disc_offer', 'bogo_offer']\n",
    "low_corr_feats = np.setdiff1d(X_train.columns, high_corr)\n",
    "low_corr_feats"
   ]
  },
  {
   "cell_type": "markdown",
   "metadata": {},
   "source": [
    "High corelation is found with the 3 `offer type` binary features, 3 `channel` binary features and `duration` feature. These features won't be dropped as they may be good predictors for tree-based classifiers, but they will be omitted from classification algorithms where there is an assumption of no corelation."
   ]
  },
  {
   "cell_type": "markdown",
   "metadata": {},
   "source": [
    "#### 7. Normalization"
   ]
  },
  {
   "cell_type": "code",
   "execution_count": 19,
   "metadata": {},
   "outputs": [
    {
     "data": {
      "text/html": [
       "<div>\n",
       "<style scoped>\n",
       "    .dataframe tbody tr th:only-of-type {\n",
       "        vertical-align: middle;\n",
       "    }\n",
       "\n",
       "    .dataframe tbody tr th {\n",
       "        vertical-align: top;\n",
       "    }\n",
       "\n",
       "    .dataframe thead th {\n",
       "        text-align: right;\n",
       "    }\n",
       "</style>\n",
       "<table border=\"1\" class=\"dataframe\">\n",
       "  <thead>\n",
       "    <tr style=\"text-align: right;\">\n",
       "      <th></th>\n",
       "      <th>reward</th>\n",
       "      <th>difficulty</th>\n",
       "      <th>duration</th>\n",
       "      <th>mobile</th>\n",
       "      <th>social</th>\n",
       "      <th>web</th>\n",
       "      <th>age</th>\n",
       "      <th>income</th>\n",
       "      <th>spend_group</th>\n",
       "      <th>frequency</th>\n",
       "      <th>monetary</th>\n",
       "      <th>tenure</th>\n",
       "      <th>info_offer</th>\n",
       "      <th>disc_offer</th>\n",
       "      <th>bogo_offer</th>\n",
       "      <th>male</th>\n",
       "    </tr>\n",
       "  </thead>\n",
       "  <tbody>\n",
       "    <tr>\n",
       "      <th>0</th>\n",
       "      <td>-0.343060</td>\n",
       "      <td>-0.115666</td>\n",
       "      <td>0.226598</td>\n",
       "      <td>0.321961</td>\n",
       "      <td>0.787665</td>\n",
       "      <td>0.501997</td>\n",
       "      <td>0.318390</td>\n",
       "      <td>-0.496159</td>\n",
       "      <td>0.780391</td>\n",
       "      <td>0.353737</td>\n",
       "      <td>0.216699</td>\n",
       "      <td>-0.810329</td>\n",
       "      <td>-0.500763</td>\n",
       "      <td>1.210456</td>\n",
       "      <td>-0.806101</td>\n",
       "      <td>-1.142028</td>\n",
       "    </tr>\n",
       "    <tr>\n",
       "      <th>1</th>\n",
       "      <td>0.245629</td>\n",
       "      <td>-0.482721</td>\n",
       "      <td>-0.679535</td>\n",
       "      <td>0.321961</td>\n",
       "      <td>0.787665</td>\n",
       "      <td>0.501997</td>\n",
       "      <td>1.184593</td>\n",
       "      <td>0.435514</td>\n",
       "      <td>-0.266809</td>\n",
       "      <td>-0.864262</td>\n",
       "      <td>-0.431199</td>\n",
       "      <td>-0.738585</td>\n",
       "      <td>-0.500763</td>\n",
       "      <td>-0.826135</td>\n",
       "      <td>1.240540</td>\n",
       "      <td>0.875635</td>\n",
       "    </tr>\n",
       "    <tr>\n",
       "      <th>2</th>\n",
       "      <td>-0.343060</td>\n",
       "      <td>-0.115666</td>\n",
       "      <td>0.226598</td>\n",
       "      <td>0.321961</td>\n",
       "      <td>0.787665</td>\n",
       "      <td>0.501997</td>\n",
       "      <td>1.126846</td>\n",
       "      <td>0.435514</td>\n",
       "      <td>0.780391</td>\n",
       "      <td>-0.458262</td>\n",
       "      <td>0.186267</td>\n",
       "      <td>0.265837</td>\n",
       "      <td>-0.500763</td>\n",
       "      <td>1.210456</td>\n",
       "      <td>-0.806101</td>\n",
       "      <td>0.875635</td>\n",
       "    </tr>\n",
       "    <tr>\n",
       "      <th>3</th>\n",
       "      <td>0.245629</td>\n",
       "      <td>-0.482721</td>\n",
       "      <td>-0.679535</td>\n",
       "      <td>0.321961</td>\n",
       "      <td>0.787665</td>\n",
       "      <td>0.501997</td>\n",
       "      <td>-0.778801</td>\n",
       "      <td>-1.334665</td>\n",
       "      <td>-1.663075</td>\n",
       "      <td>-0.864262</td>\n",
       "      <td>-0.839462</td>\n",
       "      <td>-0.810329</td>\n",
       "      <td>-0.500763</td>\n",
       "      <td>-0.826135</td>\n",
       "      <td>1.240540</td>\n",
       "      <td>-1.142028</td>\n",
       "    </tr>\n",
       "    <tr>\n",
       "      <th>4</th>\n",
       "      <td>0.245629</td>\n",
       "      <td>-0.482721</td>\n",
       "      <td>0.226598</td>\n",
       "      <td>0.321961</td>\n",
       "      <td>-1.269575</td>\n",
       "      <td>0.501997</td>\n",
       "      <td>0.664871</td>\n",
       "      <td>-0.076906</td>\n",
       "      <td>-1.663075</td>\n",
       "      <td>-1.067262</td>\n",
       "      <td>-0.836301</td>\n",
       "      <td>-0.810329</td>\n",
       "      <td>-0.500763</td>\n",
       "      <td>-0.826135</td>\n",
       "      <td>1.240540</td>\n",
       "      <td>0.875635</td>\n",
       "    </tr>\n",
       "  </tbody>\n",
       "</table>\n",
       "</div>"
      ],
      "text/plain": [
       "     reward  difficulty  duration    mobile    social       web       age  \\\n",
       "0 -0.343060   -0.115666  0.226598  0.321961  0.787665  0.501997  0.318390   \n",
       "1  0.245629   -0.482721 -0.679535  0.321961  0.787665  0.501997  1.184593   \n",
       "2 -0.343060   -0.115666  0.226598  0.321961  0.787665  0.501997  1.126846   \n",
       "3  0.245629   -0.482721 -0.679535  0.321961  0.787665  0.501997 -0.778801   \n",
       "4  0.245629   -0.482721  0.226598  0.321961 -1.269575  0.501997  0.664871   \n",
       "\n",
       "     income  spend_group  frequency  monetary    tenure  info_offer  \\\n",
       "0 -0.496159     0.780391   0.353737  0.216699 -0.810329   -0.500763   \n",
       "1  0.435514    -0.266809  -0.864262 -0.431199 -0.738585   -0.500763   \n",
       "2  0.435514     0.780391  -0.458262  0.186267  0.265837   -0.500763   \n",
       "3 -1.334665    -1.663075  -0.864262 -0.839462 -0.810329   -0.500763   \n",
       "4 -0.076906    -1.663075  -1.067262 -0.836301 -0.810329   -0.500763   \n",
       "\n",
       "   disc_offer  bogo_offer      male  \n",
       "0    1.210456   -0.806101 -1.142028  \n",
       "1   -0.826135    1.240540  0.875635  \n",
       "2    1.210456   -0.806101  0.875635  \n",
       "3   -0.826135    1.240540 -1.142028  \n",
       "4   -0.826135    1.240540  0.875635  "
      ]
     },
     "execution_count": 19,
     "metadata": {},
     "output_type": "execute_result"
    }
   ],
   "source": [
    "# Normalize train set\n",
    "scaler = StandardScaler()\n",
    "X_train_scaled = scaler.fit_transform(X_train)\n",
    "X_train_scaled = pd.DataFrame(X_train_scaled, columns=X_train.columns)\n",
    "X_train_scaled.head()"
   ]
  },
  {
   "cell_type": "code",
   "execution_count": 20,
   "metadata": {},
   "outputs": [
    {
     "data": {
      "text/html": [
       "<div>\n",
       "<style scoped>\n",
       "    .dataframe tbody tr th:only-of-type {\n",
       "        vertical-align: middle;\n",
       "    }\n",
       "\n",
       "    .dataframe tbody tr th {\n",
       "        vertical-align: top;\n",
       "    }\n",
       "\n",
       "    .dataframe thead th {\n",
       "        text-align: right;\n",
       "    }\n",
       "</style>\n",
       "<table border=\"1\" class=\"dataframe\">\n",
       "  <thead>\n",
       "    <tr style=\"text-align: right;\">\n",
       "      <th></th>\n",
       "      <th>reward</th>\n",
       "      <th>difficulty</th>\n",
       "      <th>duration</th>\n",
       "      <th>mobile</th>\n",
       "      <th>social</th>\n",
       "      <th>web</th>\n",
       "      <th>age</th>\n",
       "      <th>income</th>\n",
       "      <th>spend_group</th>\n",
       "      <th>frequency</th>\n",
       "      <th>monetary</th>\n",
       "      <th>tenure</th>\n",
       "      <th>info_offer</th>\n",
       "      <th>disc_offer</th>\n",
       "      <th>bogo_offer</th>\n",
       "      <th>male</th>\n",
       "    </tr>\n",
       "  </thead>\n",
       "  <tbody>\n",
       "    <tr>\n",
       "      <th>0</th>\n",
       "      <td>-1.226094</td>\n",
       "      <td>-1.400360</td>\n",
       "      <td>-1.132601</td>\n",
       "      <td>0.321961</td>\n",
       "      <td>-1.269575</td>\n",
       "      <td>0.501997</td>\n",
       "      <td>-1.183029</td>\n",
       "      <td>-0.915412</td>\n",
       "      <td>-1.663075</td>\n",
       "      <td>-1.473261</td>\n",
       "      <td>-0.917086</td>\n",
       "      <td>-0.666840</td>\n",
       "      <td>1.996952</td>\n",
       "      <td>-0.826135</td>\n",
       "      <td>-0.806101</td>\n",
       "      <td>-1.142028</td>\n",
       "    </tr>\n",
       "    <tr>\n",
       "      <th>1</th>\n",
       "      <td>0.245629</td>\n",
       "      <td>-0.482721</td>\n",
       "      <td>0.226598</td>\n",
       "      <td>0.321961</td>\n",
       "      <td>-1.269575</td>\n",
       "      <td>0.501997</td>\n",
       "      <td>-0.721054</td>\n",
       "      <td>-0.449575</td>\n",
       "      <td>-0.615875</td>\n",
       "      <td>-1.067262</td>\n",
       "      <td>-0.590858</td>\n",
       "      <td>-0.882074</td>\n",
       "      <td>-0.500763</td>\n",
       "      <td>-0.826135</td>\n",
       "      <td>1.240540</td>\n",
       "      <td>0.875635</td>\n",
       "    </tr>\n",
       "    <tr>\n",
       "      <th>2</th>\n",
       "      <td>0.245629</td>\n",
       "      <td>2.270196</td>\n",
       "      <td>1.585798</td>\n",
       "      <td>-3.105968</td>\n",
       "      <td>-1.269575</td>\n",
       "      <td>0.501997</td>\n",
       "      <td>-1.471764</td>\n",
       "      <td>-0.309824</td>\n",
       "      <td>-0.266809</td>\n",
       "      <td>1.977735</td>\n",
       "      <td>-0.335639</td>\n",
       "      <td>2.992126</td>\n",
       "      <td>-0.500763</td>\n",
       "      <td>1.210456</td>\n",
       "      <td>-0.806101</td>\n",
       "      <td>0.875635</td>\n",
       "    </tr>\n",
       "    <tr>\n",
       "      <th>3</th>\n",
       "      <td>-0.343060</td>\n",
       "      <td>-0.115666</td>\n",
       "      <td>0.226598</td>\n",
       "      <td>0.321961</td>\n",
       "      <td>0.787665</td>\n",
       "      <td>0.501997</td>\n",
       "      <td>-0.778801</td>\n",
       "      <td>0.482098</td>\n",
       "      <td>1.129457</td>\n",
       "      <td>0.150737</td>\n",
       "      <td>0.593574</td>\n",
       "      <td>-0.092885</td>\n",
       "      <td>-0.500763</td>\n",
       "      <td>1.210456</td>\n",
       "      <td>-0.806101</td>\n",
       "      <td>0.875635</td>\n",
       "    </tr>\n",
       "    <tr>\n",
       "      <th>4</th>\n",
       "      <td>-1.226094</td>\n",
       "      <td>-1.400360</td>\n",
       "      <td>-1.585668</td>\n",
       "      <td>0.321961</td>\n",
       "      <td>0.787665</td>\n",
       "      <td>-1.992043</td>\n",
       "      <td>-1.414017</td>\n",
       "      <td>-1.614166</td>\n",
       "      <td>-0.266809</td>\n",
       "      <td>1.165736</td>\n",
       "      <td>-0.299914</td>\n",
       "      <td>-0.092885</td>\n",
       "      <td>1.996952</td>\n",
       "      <td>-0.826135</td>\n",
       "      <td>-0.806101</td>\n",
       "      <td>-1.142028</td>\n",
       "    </tr>\n",
       "  </tbody>\n",
       "</table>\n",
       "</div>"
      ],
      "text/plain": [
       "     reward  difficulty  duration    mobile    social       web       age  \\\n",
       "0 -1.226094   -1.400360 -1.132601  0.321961 -1.269575  0.501997 -1.183029   \n",
       "1  0.245629   -0.482721  0.226598  0.321961 -1.269575  0.501997 -0.721054   \n",
       "2  0.245629    2.270196  1.585798 -3.105968 -1.269575  0.501997 -1.471764   \n",
       "3 -0.343060   -0.115666  0.226598  0.321961  0.787665  0.501997 -0.778801   \n",
       "4 -1.226094   -1.400360 -1.585668  0.321961  0.787665 -1.992043 -1.414017   \n",
       "\n",
       "     income  spend_group  frequency  monetary    tenure  info_offer  \\\n",
       "0 -0.915412    -1.663075  -1.473261 -0.917086 -0.666840    1.996952   \n",
       "1 -0.449575    -0.615875  -1.067262 -0.590858 -0.882074   -0.500763   \n",
       "2 -0.309824    -0.266809   1.977735 -0.335639  2.992126   -0.500763   \n",
       "3  0.482098     1.129457   0.150737  0.593574 -0.092885   -0.500763   \n",
       "4 -1.614166    -0.266809   1.165736 -0.299914 -0.092885    1.996952   \n",
       "\n",
       "   disc_offer  bogo_offer      male  \n",
       "0   -0.826135   -0.806101 -1.142028  \n",
       "1   -0.826135    1.240540  0.875635  \n",
       "2    1.210456   -0.806101  0.875635  \n",
       "3    1.210456   -0.806101  0.875635  \n",
       "4   -0.826135   -0.806101 -1.142028  "
      ]
     },
     "execution_count": 20,
     "metadata": {},
     "output_type": "execute_result"
    }
   ],
   "source": [
    "# Normalize validation set\n",
    "X_val_scaled = scaler.transform(X_valid)\n",
    "X_val_scaled = pd.DataFrame(X_val_scaled, columns=X_valid.columns)\n",
    "X_val_scaled.head()"
   ]
  },
  {
   "cell_type": "code",
   "execution_count": 21,
   "metadata": {},
   "outputs": [
    {
     "data": {
      "text/html": [
       "<div>\n",
       "<style scoped>\n",
       "    .dataframe tbody tr th:only-of-type {\n",
       "        vertical-align: middle;\n",
       "    }\n",
       "\n",
       "    .dataframe tbody tr th {\n",
       "        vertical-align: top;\n",
       "    }\n",
       "\n",
       "    .dataframe thead th {\n",
       "        text-align: right;\n",
       "    }\n",
       "</style>\n",
       "<table border=\"1\" class=\"dataframe\">\n",
       "  <thead>\n",
       "    <tr style=\"text-align: right;\">\n",
       "      <th></th>\n",
       "      <th>reward</th>\n",
       "      <th>difficulty</th>\n",
       "      <th>duration</th>\n",
       "      <th>mobile</th>\n",
       "      <th>social</th>\n",
       "      <th>web</th>\n",
       "      <th>age</th>\n",
       "      <th>income</th>\n",
       "      <th>spend_group</th>\n",
       "      <th>frequency</th>\n",
       "      <th>monetary</th>\n",
       "      <th>tenure</th>\n",
       "      <th>info_offer</th>\n",
       "      <th>disc_offer</th>\n",
       "      <th>bogo_offer</th>\n",
       "      <th>male</th>\n",
       "    </tr>\n",
       "  </thead>\n",
       "  <tbody>\n",
       "    <tr>\n",
       "      <th>0</th>\n",
       "      <td>1.717352</td>\n",
       "      <td>0.434918</td>\n",
       "      <td>0.226598</td>\n",
       "      <td>0.321961</td>\n",
       "      <td>0.787665</td>\n",
       "      <td>-1.992043</td>\n",
       "      <td>2.108544</td>\n",
       "      <td>1.180852</td>\n",
       "      <td>1.129457</td>\n",
       "      <td>-0.052263</td>\n",
       "      <td>0.451777</td>\n",
       "      <td>-0.021140</td>\n",
       "      <td>-0.500763</td>\n",
       "      <td>-0.826135</td>\n",
       "      <td>1.240540</td>\n",
       "      <td>0.875635</td>\n",
       "    </tr>\n",
       "    <tr>\n",
       "      <th>1</th>\n",
       "      <td>1.717352</td>\n",
       "      <td>0.434918</td>\n",
       "      <td>-0.679535</td>\n",
       "      <td>0.321961</td>\n",
       "      <td>0.787665</td>\n",
       "      <td>0.501997</td>\n",
       "      <td>0.953606</td>\n",
       "      <td>-0.682493</td>\n",
       "      <td>0.431324</td>\n",
       "      <td>0.759736</td>\n",
       "      <td>0.038663</td>\n",
       "      <td>-0.810329</td>\n",
       "      <td>-0.500763</td>\n",
       "      <td>-0.826135</td>\n",
       "      <td>1.240540</td>\n",
       "      <td>0.875635</td>\n",
       "    </tr>\n",
       "    <tr>\n",
       "      <th>2</th>\n",
       "      <td>-0.343060</td>\n",
       "      <td>-0.115666</td>\n",
       "      <td>0.226598</td>\n",
       "      <td>0.321961</td>\n",
       "      <td>0.787665</td>\n",
       "      <td>0.501997</td>\n",
       "      <td>0.087402</td>\n",
       "      <td>1.134269</td>\n",
       "      <td>1.129457</td>\n",
       "      <td>0.353737</td>\n",
       "      <td>0.630768</td>\n",
       "      <td>2.346426</td>\n",
       "      <td>-0.500763</td>\n",
       "      <td>1.210456</td>\n",
       "      <td>-0.806101</td>\n",
       "      <td>0.875635</td>\n",
       "    </tr>\n",
       "    <tr>\n",
       "      <th>3</th>\n",
       "      <td>-0.637405</td>\n",
       "      <td>0.434918</td>\n",
       "      <td>0.226598</td>\n",
       "      <td>0.321961</td>\n",
       "      <td>-1.269575</td>\n",
       "      <td>0.501997</td>\n",
       "      <td>1.935303</td>\n",
       "      <td>-0.402992</td>\n",
       "      <td>0.431324</td>\n",
       "      <td>-0.052263</td>\n",
       "      <td>-0.060205</td>\n",
       "      <td>0.050604</td>\n",
       "      <td>-0.500763</td>\n",
       "      <td>1.210456</td>\n",
       "      <td>-0.806101</td>\n",
       "      <td>0.875635</td>\n",
       "    </tr>\n",
       "    <tr>\n",
       "      <th>4</th>\n",
       "      <td>-1.226094</td>\n",
       "      <td>-1.400360</td>\n",
       "      <td>-1.585668</td>\n",
       "      <td>0.321961</td>\n",
       "      <td>0.787665</td>\n",
       "      <td>-1.992043</td>\n",
       "      <td>1.300087</td>\n",
       "      <td>-0.402992</td>\n",
       "      <td>-0.266809</td>\n",
       "      <td>-0.458262</td>\n",
       "      <td>-0.296092</td>\n",
       "      <td>2.920382</td>\n",
       "      <td>1.996952</td>\n",
       "      <td>-0.826135</td>\n",
       "      <td>-0.806101</td>\n",
       "      <td>-1.142028</td>\n",
       "    </tr>\n",
       "  </tbody>\n",
       "</table>\n",
       "</div>"
      ],
      "text/plain": [
       "     reward  difficulty  duration    mobile    social       web       age  \\\n",
       "0  1.717352    0.434918  0.226598  0.321961  0.787665 -1.992043  2.108544   \n",
       "1  1.717352    0.434918 -0.679535  0.321961  0.787665  0.501997  0.953606   \n",
       "2 -0.343060   -0.115666  0.226598  0.321961  0.787665  0.501997  0.087402   \n",
       "3 -0.637405    0.434918  0.226598  0.321961 -1.269575  0.501997  1.935303   \n",
       "4 -1.226094   -1.400360 -1.585668  0.321961  0.787665 -1.992043  1.300087   \n",
       "\n",
       "     income  spend_group  frequency  monetary    tenure  info_offer  \\\n",
       "0  1.180852     1.129457  -0.052263  0.451777 -0.021140   -0.500763   \n",
       "1 -0.682493     0.431324   0.759736  0.038663 -0.810329   -0.500763   \n",
       "2  1.134269     1.129457   0.353737  0.630768  2.346426   -0.500763   \n",
       "3 -0.402992     0.431324  -0.052263 -0.060205  0.050604   -0.500763   \n",
       "4 -0.402992    -0.266809  -0.458262 -0.296092  2.920382    1.996952   \n",
       "\n",
       "   disc_offer  bogo_offer      male  \n",
       "0   -0.826135    1.240540  0.875635  \n",
       "1   -0.826135    1.240540  0.875635  \n",
       "2    1.210456   -0.806101  0.875635  \n",
       "3    1.210456   -0.806101  0.875635  \n",
       "4   -0.826135   -0.806101 -1.142028  "
      ]
     },
     "execution_count": 21,
     "metadata": {},
     "output_type": "execute_result"
    }
   ],
   "source": [
    "# Normalize test set\n",
    "X_test_scaled = scaler.transform(X_testv)\n",
    "X_test_scaled = pd.DataFrame(X_test_scaled, columns=X_testv.columns)\n",
    "X_test_scaled.head()"
   ]
  },
  {
   "cell_type": "code",
   "execution_count": 22,
   "metadata": {},
   "outputs": [
    {
     "data": {
      "text/plain": [
       "19937"
      ]
     },
     "execution_count": 22,
     "metadata": {},
     "output_type": "execute_result"
    }
   ],
   "source": [
    "del X_test, Y_test, high_corr, drop_col\n",
    "gc.collect()"
   ]
  },
  {
   "cell_type": "markdown",
   "metadata": {},
   "source": [
    "With the data preprocessed, we are left with 2 feature sets:\n",
    "1. Set 1 with 8 features (features with high correlation) - `age`, `difficulty`, `frequency`, `income`, `male`, `monetary`, `reward`, `tenure`\n",
    "2. Set 2 with 15 features - the features in set 1 plus `duration`, `mobile`, `social`, `web`, `info_offers`, `disc_offer`, `bogo_offer`"
   ]
  },
  {
   "cell_type": "markdown",
   "metadata": {},
   "source": [
    "## <a id=\"clfr\">Part III: Modeling</a>\n",
    "\n",
    "#### 1. Feature correlation with target"
   ]
  },
  {
   "cell_type": "code",
   "execution_count": 23,
   "metadata": {},
   "outputs": [
    {
     "data": {
      "text/plain": [
       "spend_group    0.423769\n",
       "frequency      0.286134\n",
       "monetary       0.283780\n",
       "social         0.219021\n",
       "mobile         0.158905\n",
       "tenure         0.156796\n",
       "income         0.115038\n",
       "age            0.060317\n",
       "disc_offer     0.039845\n",
       "info_offer    -0.001984\n",
       "web           -0.004990\n",
       "duration      -0.017640\n",
       "bogo_offer    -0.038416\n",
       "reward        -0.059269\n",
       "male          -0.091544\n",
       "difficulty    -0.099235\n",
       "Name: target, dtype: float64"
      ]
     },
     "execution_count": 23,
     "metadata": {},
     "output_type": "execute_result"
    }
   ],
   "source": [
    "# Correlation with target variable\n",
    "target_corr = X_train.assign(target = Y_train).corr().iloc[-1, :-1].sort_values(ascending=False)\n",
    "target_corr"
   ]
  },
  {
   "cell_type": "code",
   "execution_count": 24,
   "metadata": {},
   "outputs": [
    {
     "data": {
      "image/png": "[encoded data removed]",
      "text/plain": [
       "<Figure size 864x432 with 1 Axes>"
      ]
     },
     "metadata": {},
     "output_type": "display_data"
    }
   ],
   "source": [
    "plt.figure(figsize=(12, 6))\n",
    "sns.barplot(x=target_corr.values, y=target_corr.index)\n",
    "plt.title('Correlation with Target Label', fontsize='x-large');"
   ]
  },
  {
   "cell_type": "markdown",
   "metadata": {},
   "source": [
    "Above barplot shows that the spending habits of a customer would be the best predictor."
   ]
  },
  {
   "cell_type": "markdown",
   "metadata": {},
   "source": [
    "#### 2. Evaluation functions"
   ]
  },
  {
   "cell_type": "code",
   "execution_count": 25,
   "metadata": {},
   "outputs": [],
   "source": [
    "def model_evalution(train_pred, val_pred, test_pred=None,\n",
    "               train_true=Y_train, val_true=Y_valid, test_true=Y_testv):\n",
    "    \n",
    "    '''\n",
    "    Get the accuracy and ROC-AUC scores of the train, validation, and test sets.\n",
    "    \n",
    "    Args:\n",
    "        (1) train_pred (array-like) - predictions on training set\n",
    "        (2) val_pred (array-like) - predictions on validation set\n",
    "        (3) test_pred (array-like) - predictions on test set\n",
    "        (4) train_true (array-like) - true labels from train set\n",
    "        (5) val_true (array-like) - true labels from validation set\n",
    "        (6) test_true (array-like) - true labels from test set\n",
    "        \n",
    "    Returns:\n",
    "        Accuracy and ROC-AUC scores of the train, validation, and test sets (Pandas dataframe)\n",
    "    '''\n",
    "    \n",
    "    metrics = dict()\n",
    "    \n",
    "    if train_pred is not None:\n",
    "        metrics['train'] = [accuracy_score(train_true, train_pred)]\n",
    "        metrics['train'].append(roc_auc_score(train_true, train_pred))\n",
    "        \n",
    "    if val_pred is not None:\n",
    "        metrics['validation'] = [accuracy_score(val_true, val_pred)]\n",
    "        metrics['validation'].append(roc_auc_score(val_true, val_pred))\n",
    "        \n",
    "    if test_pred is not None:\n",
    "        metrics['test'] = [accuracy_score(test_true, test_pred)]\n",
    "        metrics['test'].append(roc_auc_score(test_true, test_pred))\n",
    "        \n",
    "    return pd.DataFrame(metrics, index=['accuracy', 'ROC-AUC score']).T"
   ]
  },
  {
   "cell_type": "code",
   "execution_count": 26,
   "metadata": {},
   "outputs": [],
   "source": [
    "def plot_confusionmatrix(estimator, n_subplots, train_X, val_X, test_X=None,\n",
    "                   train_y=Y_train, val_y=Y_valid, test_y=Y_testv, color='Blues'):\n",
    "    \n",
    "    '''\n",
    "    Plot a heatmap of the confusion matrix for the train, validation, and test sets.\n",
    "    \n",
    "    Args:\n",
    "        (1) estimator (Sklearn estimator) - fitted classifier\n",
    "        (2) n_subplots (int) - number of sets to plot for\n",
    "        (3) train_X (Pandas dataframe) - X from training set\n",
    "        (4) val_X (Pandas dataframe) - X from validation set\n",
    "        (5) test_X (Pandas dataframe) - X from test set\n",
    "        (6) train_y (Pandas dataframe) - y from training set\n",
    "        (7) val_y (Pandas dataframe) - y from validation set\n",
    "        (8) test_y (Pandas dataframe) - y from test set\n",
    "        \n",
    "    Returns: None.\n",
    "    '''\n",
    "    \n",
    "    fig, ax = plt.subplots(1, n_subplots, figsize=(15, 3))\n",
    "    i = 0\n",
    "    \n",
    "    if train_X is not None:\n",
    "        plot_confusion_matrix(estimator, train_X, train_y, cmap=color, ax=ax[i])\n",
    "        ax[i].set_title('Train Confusion Matrix')\n",
    "        ax[i].grid(False)\n",
    "        i += 1\n",
    "        \n",
    "    if val_X is not None:\n",
    "        plot_confusion_matrix(estimator, val_X, val_y, cmap=color, ax=ax[i])\n",
    "        ax[i].set_title('Validation Confusion Matrix')\n",
    "        ax[i].grid(False)\n",
    "        i += 1\n",
    "        \n",
    "    if test_X is not None:\n",
    "        plot_confusion_matrix(estimator, test_X, test_y, cmap=color, ax=ax[i])\n",
    "        ax[i].set_title('Test Confusion Matrix')\n",
    "        ax[i].grid(False)"
   ]
  },
  {
   "cell_type": "markdown",
   "metadata": {},
   "source": [
    "#### 3. Logistic regression"
   ]
  },
  {
   "cell_type": "code",
   "execution_count": 27,
   "metadata": {},
   "outputs": [
    {
     "data": {
      "text/plain": [
       "((27842, 11), (13921, 11), (13921, 11))"
      ]
     },
     "execution_count": 27,
     "metadata": {},
     "output_type": "execute_result"
    }
   ],
   "source": [
    "X_train_scaled_sub = X_train_scaled[low_corr_feats]\n",
    "X_val_scaled_sub = X_val_scaled[low_corr_feats]\n",
    "X_test_scaled_sub = X_test_scaled[low_corr_feats]\n",
    "X_train_scaled_sub.shape, X_val_scaled_sub.shape, X_test_scaled_sub.shape"
   ]
  },
  {
   "cell_type": "code",
   "execution_count": 28,
   "metadata": {},
   "outputs": [
    {
     "name": "stdout",
     "output_type": "stream",
     "text": [
      "Fitting 10 folds for each of 20 candidates, totalling 200 fits\n"
     ]
    },
    {
     "name": "stderr",
     "output_type": "stream",
     "text": [
      "[Parallel(n_jobs=4)]: Using backend LokyBackend with 4 concurrent workers.\n",
      "[Parallel(n_jobs=4)]: Done  33 tasks      | elapsed:  1.0min\n",
      "[Parallel(n_jobs=4)]: Done 193 out of 200 | elapsed:  1.1min remaining:    2.3s\n",
      "[Parallel(n_jobs=4)]: Done 200 out of 200 | elapsed:  1.1min finished\n"
     ]
    },
    {
     "name": "stdout",
     "output_type": "stream",
     "text": [
      "0.7902891432180298\n",
      "{'C': 0.021544346900318832, 'penalty': 'l2'}\n",
      "Wall time: 1min 7s\n"
     ]
    }
   ],
   "source": [
    "%%time\n",
    "\n",
    "# Grid Search\n",
    "lr = LogisticRegression(random_state=0)\n",
    "lr_params = {'C': np.logspace(-3, 1, 10),\n",
    "             'penalty': ['l1', 'l2']}\n",
    "\n",
    "lr_search = GridSearchCV(lr, lr_params, scoring='roc_auc', cv=10, n_jobs=4, verbose=2)\n",
    "lr_search.fit(X_train_scaled_sub, Y_train)\n",
    "print(lr_search.best_score_)\n",
    "print(lr_search.best_params_)"
   ]
  },
  {
   "cell_type": "code",
   "execution_count": 29,
   "metadata": {},
   "outputs": [
    {
     "name": "stdout",
     "output_type": "stream",
     "text": [
      "              precision    recall  f1-score   support\n",
      "\n",
      "           0       0.72      0.70      0.71     13806\n",
      "           1       0.71      0.73      0.72     14036\n",
      "\n",
      "    accuracy                           0.72     27842\n",
      "   macro avg       0.72      0.72      0.72     27842\n",
      "weighted avg       0.72      0.72      0.72     27842\n",
      "\n",
      "              precision    recall  f1-score   support\n",
      "\n",
      "           0       0.73      0.70      0.72      7060\n",
      "           1       0.71      0.73      0.72      6861\n",
      "\n",
      "    accuracy                           0.72     13921\n",
      "   macro avg       0.72      0.72      0.72     13921\n",
      "weighted avg       0.72      0.72      0.72     13921\n",
      "\n"
     ]
    }
   ],
   "source": [
    "# Train model\n",
    "lr = lr_search.best_estimator_\n",
    "lr.fit(X_train_scaled_sub, Y_train)\n",
    "\n",
    "# Make predictions\n",
    "lr_train_pred = lr.predict(X_train_scaled_sub)\n",
    "lr_val_pred = lr.predict(X_val_scaled_sub)\n",
    "\n",
    "# Evaluate predictions\n",
    "print(report(Y_train, lr_train_pred))\n",
    "print(report(Y_valid, lr_val_pred))"
   ]
  },
  {
   "cell_type": "code",
   "execution_count": 30,
   "metadata": {},
   "outputs": [
    {
     "data": {
      "image/png": "[encoded data removed]",
      "text/plain": [
       "<Figure size 1080x216 with 4 Axes>"
      ]
     },
     "metadata": {},
     "output_type": "display_data"
    }
   ],
   "source": [
    "# Confusion matrix\n",
    "plot_confusionmatrix(lr, 2, X_train_scaled_sub, X_val_scaled_sub)"
   ]
  },
  {
   "cell_type": "code",
   "execution_count": 31,
   "metadata": {},
   "outputs": [
    {
     "data": {
      "text/plain": [
       "spend_group    1.162049\n",
       "social         0.686817\n",
       "web            0.248425\n",
       "tenure         0.098713\n",
       "age            0.050179\n",
       "frequency      0.034285\n",
       "male          -0.018880\n",
       "difficulty    -0.089333\n",
       "income        -0.142452\n",
       "monetary      -0.176897\n",
       "reward        -0.295833\n",
       "dtype: float64"
      ]
     },
     "execution_count": 31,
     "metadata": {},
     "output_type": "execute_result"
    }
   ],
   "source": [
    "# Coefficients\n",
    "pd.Series(lr.coef_[0], index=X_train_scaled_sub.columns).sort_values(ascending=False)"
   ]
  },
  {
   "cell_type": "markdown",
   "metadata": {},
   "source": [
    "The logistic regression model achieved an prediction accuracy and f1-score of 0.72 for both the training and validation sets.\n",
    "\n",
    "It looks like the `social`, `frequency`, and `monetary` features have the most predictive power in this model. The posistive relationship between the customer's spending habits and their likelihood of completing an offer agrees with the analysis from the previous notebooks, but it's interesting to see that sending the offer through social media has an even greater importance here. Perhaps this is the main channel in which customers are responding to offers.\n",
    "\n",
    "Surprisingly, `reward` has a negative coefficient, which is counterintuitive because one would expect that reward has a positive relationship with offer completion. Of course, this doesn't imply that lowering rewards would increase offer completions. It could just be that informational offers (which have 0 `reward`) are pulling this coefficient in the negative direction."
   ]
  },
  {
   "cell_type": "markdown",
   "metadata": {},
   "source": [
    "#### 4. K-nearest Neighbors"
   ]
  },
  {
   "cell_type": "code",
   "execution_count": 32,
   "metadata": {},
   "outputs": [
    {
     "name": "stdout",
     "output_type": "stream",
     "text": [
      "Wall time: 4min 6s\n"
     ]
    },
    {
     "data": {
      "text/plain": [
       "<matplotlib.legend.Legend at 0x27ba8a1bf40>"
      ]
     },
     "execution_count": 32,
     "metadata": {},
     "output_type": "execute_result"
    },
    {
     "data": {
      "image/png": "[encoded data removed]",
      "text/plain": [
       "<Figure size 432x288 with 1 Axes>"
      ]
     },
     "metadata": {},
     "output_type": "display_data"
    }
   ],
   "source": [
    "%%time\n",
    "\n",
    "# Find optimal range for K\n",
    "auc_train, auc_val = [], []\n",
    "for k in range(3, 33, 2):\n",
    "    \n",
    "    # Train model\n",
    "    knn_k = KNeighborsClassifier(n_neighbors=k)\n",
    "    knn_k.fit(X_train_scaled, Y_train)\n",
    "    \n",
    "    # Make predictions\n",
    "    k_train_pred = knn_k.predict(X_train_scaled)\n",
    "    k_val_pred = knn_k.predict(X_val_scaled)\n",
    "    \n",
    "    # F1 scores\n",
    "    auc_train.append(f1_score(Y_train, k_train_pred))\n",
    "    auc_val.append(f1_score(Y_valid, k_val_pred))\n",
    "\n",
    "# Plot scores\n",
    "sns.lineplot(x=range(3, 33, 2), y=auc_train)\n",
    "sns.lineplot(x=range(3, 33, 2), y=auc_val)\n",
    "plt.title('F1 Scores with Changing K', fontsize='x-large')\n",
    "plt.ylabel('F1 score')\n",
    "plt.xlabel('K')\n",
    "plt.legend(['Train', 'Validation']);"
   ]
  },
  {
   "cell_type": "code",
   "execution_count": 33,
   "metadata": {
    "scrolled": true
   },
   "outputs": [
    {
     "name": "stdout",
     "output_type": "stream",
     "text": [
      "Fitting 4 folds for each of 16 candidates, totalling 64 fits\n"
     ]
    },
    {
     "name": "stderr",
     "output_type": "stream",
     "text": [
      "[Parallel(n_jobs=4)]: Using backend LokyBackend with 4 concurrent workers.\n",
      "[Parallel(n_jobs=4)]: Done  33 tasks      | elapsed:  1.1min\n",
      "[Parallel(n_jobs=4)]: Done  64 out of  64 | elapsed:  3.6min finished\n"
     ]
    },
    {
     "name": "stdout",
     "output_type": "stream",
     "text": [
      "0.8136713841073357\n",
      "{'n_neighbors': 50, 'p': 1}\n",
      "Wall time: 3min 39s\n"
     ]
    }
   ],
   "source": [
    "%%time\n",
    "\n",
    "knn = KNeighborsClassifier()\n",
    "knn_param = {'n_neighbors': [5, 10, 30, 50],\n",
    "              'p': [1, 2, 3, 4]}\n",
    "\n",
    "knn_search = GridSearchCV(knn, knn_param, scoring='roc_auc', cv=4, n_jobs=4, verbose=2)\n",
    "knn_search.fit(X_train_scaled, Y_train)\n",
    "print(knn_search.best_score_)\n",
    "print(knn_search.best_params_)"
   ]
  },
  {
   "cell_type": "code",
   "execution_count": 34,
   "metadata": {},
   "outputs": [
    {
     "name": "stdout",
     "output_type": "stream",
     "text": [
      "              precision    recall  f1-score   support\n",
      "\n",
      "           0       0.76      0.73      0.74     13806\n",
      "           1       0.74      0.77      0.76     14036\n",
      "\n",
      "    accuracy                           0.75     27842\n",
      "   macro avg       0.75      0.75      0.75     27842\n",
      "weighted avg       0.75      0.75      0.75     27842\n",
      "\n",
      "              precision    recall  f1-score   support\n",
      "\n",
      "           0       0.76      0.72      0.74      7060\n",
      "           1       0.72      0.76      0.74      6861\n",
      "\n",
      "    accuracy                           0.74     13921\n",
      "   macro avg       0.74      0.74      0.74     13921\n",
      "weighted avg       0.74      0.74      0.74     13921\n",
      "\n"
     ]
    }
   ],
   "source": [
    "# Train model\n",
    "knn = knn_search.best_estimator_\n",
    "knn.fit(X_train_scaled, Y_train)\n",
    "\n",
    "# Make predictions\n",
    "knn_train_pred = knn.predict(X_train_scaled)\n",
    "knn_val_pred = knn.predict(X_val_scaled)\n",
    "\n",
    "# Evaluate predictions\n",
    "print(report(Y_train, knn_train_pred))\n",
    "print(report(Y_valid, knn_val_pred))"
   ]
  },
  {
   "cell_type": "markdown",
   "metadata": {},
   "source": [
    "The K-nearest neighbors algorithm does better than logistic regression in making predictions on the validation set, with a f1-score of 0.74.\n",
    "\n",
    "Once again, only 2 parameters were tuned: `n_neighbors` (the core of this algorithm) and `d` (the polynomial for the distance function). The best values were:\n",
    "- `n_neighbors`: 50 - this means that in order to classify any new data point, KNN will find its 50 closest neighbors and take the major class of the neighbors\n",
    "    - As seen in the line plot of F1 scores for the train and validation sets with a varying k, the validation set's f1-score converges to somewhere around 0.74 when going beyond a k of 30\n",
    "    - I stopped at 50 neighbors in the parameter grid because any more would add unnecessary runtime for a minimal gain in score\n",
    "- `d`: 1 - a polynomial of 1 means the Manhattan distance will be used to compute distances between data points"
   ]
  },
  {
   "cell_type": "markdown",
   "metadata": {},
   "source": [
    "#### 5. Support Vector Machines"
   ]
  },
  {
   "cell_type": "code",
   "execution_count": 35,
   "metadata": {},
   "outputs": [
    {
     "name": "stdout",
     "output_type": "stream",
     "text": [
      "Fitting 3 folds for each of 25 candidates, totalling 75 fits\n"
     ]
    },
    {
     "name": "stderr",
     "output_type": "stream",
     "text": [
      "[Parallel(n_jobs=4)]: Using backend LokyBackend with 4 concurrent workers.\n",
      "[Parallel(n_jobs=4)]: Done  33 tasks      | elapsed:  9.3min\n",
      "[Parallel(n_jobs=4)]: Done  75 out of  75 | elapsed: 47.4min finished\n"
     ]
    },
    {
     "name": "stdout",
     "output_type": "stream",
     "text": [
      "0.8093619748378199\n",
      "{'C': 100.0, 'gamma': 0.01}\n",
      "Wall time: 1h 3s\n"
     ]
    }
   ],
   "source": [
    "%%time\n",
    "\n",
    "# Grid search\n",
    "svm = SVC()\n",
    "svm_params = {'C': np.logspace(-1, 3, 5),\n",
    "              'gamma': np.logspace(-3, 1, 5)}\n",
    "\n",
    "svm_search = GridSearchCV(svm, svm_params, scoring='roc_auc', cv=3, n_jobs=4, verbose=2)\n",
    "svm_search.fit(X_train_scaled, Y_train)\n",
    "print(svm_search.best_score_)\n",
    "print(svm_search.best_params_)"
   ]
  },
  {
   "cell_type": "code",
   "execution_count": 37,
   "metadata": {},
   "outputs": [
    {
     "name": "stdout",
     "output_type": "stream",
     "text": [
      "              precision    recall  f1-score   support\n",
      "\n",
      "           0       0.77      0.68      0.72     13806\n",
      "           1       0.72      0.80      0.76     14036\n",
      "\n",
      "    accuracy                           0.74     27842\n",
      "   macro avg       0.74      0.74      0.74     27842\n",
      "weighted avg       0.74      0.74      0.74     27842\n",
      "\n",
      "              precision    recall  f1-score   support\n",
      "\n",
      "           0       0.78      0.68      0.72      7060\n",
      "           1       0.71      0.80      0.75      6861\n",
      "\n",
      "    accuracy                           0.74     13921\n",
      "   macro avg       0.74      0.74      0.74     13921\n",
      "weighted avg       0.74      0.74      0.74     13921\n",
      "\n"
     ]
    }
   ],
   "source": [
    "# Train model\n",
    "svm = svm_search.best_estimator_\n",
    "svm.fit(X_train_scaled, Y_train)\n",
    "\n",
    "# Make predictions\n",
    "svm_train_pred = svm.predict(X_train_scaled)\n",
    "svm_val_pred = svm.predict(X_val_scaled)\n",
    "\n",
    "# Evaluate predictions\n",
    "print(report(Y_train, svm_train_pred))\n",
    "print(report(Y_valid, svm_val_pred))"
   ]
  },
  {
   "cell_type": "code",
   "execution_count": 38,
   "metadata": {},
   "outputs": [
    {
     "data": {
      "image/png": "[encoded data removed]",
      "text/plain": [
       "<Figure size 1080x216 with 4 Axes>"
      ]
     },
     "metadata": {},
     "output_type": "display_data"
    }
   ],
   "source": [
    "### Confusion matrix\n",
    "plot_confusionmatrix(svm, 2, X_train_scaled, X_val_scaled)"
   ]
  },
  {
   "cell_type": "markdown",
   "metadata": {},
   "source": [
    "Compared to KNN, SVM does better overall with f1-score of 0.74. Predictions of the positive class outnumbered the negative class in the ratio 3:2. \n",
    "\n",
    "SVM takes longer time for prediction though only 2 variables are considered.\n",
    "- `C`: 100 - this is the same `C` as in logistic regression, i.e. the inverse of regularization strength\n",
    "- `gamma`: 0.01 - this is the kernel coefficient used in refining the decision boundary, most often less than 1"
   ]
  },
  {
   "cell_type": "markdown",
   "metadata": {},
   "source": [
    "#### 6. Decision tree"
   ]
  },
  {
   "cell_type": "code",
   "execution_count": 39,
   "metadata": {},
   "outputs": [
    {
     "name": "stdout",
     "output_type": "stream",
     "text": [
      "Fitting 4 folds for each of 256 candidates, totalling 1024 fits\n"
     ]
    },
    {
     "name": "stderr",
     "output_type": "stream",
     "text": [
      "[Parallel(n_jobs=4)]: Using backend LokyBackend with 4 concurrent workers.\n",
      "[Parallel(n_jobs=4)]: Done  33 tasks      | elapsed:   29.0s\n",
      "[Parallel(n_jobs=4)]: Done 252 tasks      | elapsed:   38.5s\n",
      "[Parallel(n_jobs=4)]: Done 658 tasks      | elapsed:   55.4s\n",
      "[Parallel(n_jobs=4)]: Done 1024 out of 1024 | elapsed:  1.3min finished\n"
     ]
    },
    {
     "name": "stdout",
     "output_type": "stream",
     "text": [
      "0.8107334507754475\n",
      "{'max_depth': 8, 'max_features': 0.5, 'min_samples_leaf': 50, 'min_samples_split': 100}\n",
      "Wall time: 1min 15s\n"
     ]
    }
   ],
   "source": [
    "%%time\n",
    "\n",
    "# Grid search\n",
    "dt = DecisionTreeClassifier(random_state=0)\n",
    "dt_params = {'max_features': [0.25, 0.5, 0.75, None],\n",
    "             'max_depth': [8, 10, 12, None],\n",
    "             'min_samples_split': [100, 60, 20, 2],\n",
    "             'min_samples_leaf': [50, 30, 10, 1]}\n",
    "\n",
    "dt_search = GridSearchCV(dt, dt_params, scoring='roc_auc', cv=4, n_jobs=4, verbose=2)\n",
    "dt_search.fit(X_train_scaled, Y_train)\n",
    "print(dt_search.best_score_)\n",
    "print(dt_search.best_params_)"
   ]
  },
  {
   "cell_type": "code",
   "execution_count": 40,
   "metadata": {},
   "outputs": [
    {
     "name": "stdout",
     "output_type": "stream",
     "text": [
      "              precision    recall  f1-score   support\n",
      "\n",
      "           0       0.77      0.70      0.73     13806\n",
      "           1       0.73      0.80      0.76     14036\n",
      "\n",
      "    accuracy                           0.75     27842\n",
      "   macro avg       0.75      0.75      0.75     27842\n",
      "weighted avg       0.75      0.75      0.75     27842\n",
      "\n",
      "              precision    recall  f1-score   support\n",
      "\n",
      "           0       0.77      0.69      0.73      7060\n",
      "           1       0.71      0.79      0.75      6861\n",
      "\n",
      "    accuracy                           0.74     13921\n",
      "   macro avg       0.74      0.74      0.74     13921\n",
      "weighted avg       0.74      0.74      0.74     13921\n",
      "\n"
     ]
    }
   ],
   "source": [
    "# Train model\n",
    "dt = dt_search.best_estimator_\n",
    "dt.fit(X_train_scaled, Y_train)\n",
    "\n",
    "# Make predictions\n",
    "dt_train_pred = dt.predict(X_train_scaled)\n",
    "dt_val_pred = dt.predict(X_val_scaled)\n",
    "\n",
    "# Evaluate predictions\n",
    "print(report(Y_train, dt_train_pred))\n",
    "print(report(Y_valid, dt_val_pred))"
   ]
  },
  {
   "cell_type": "code",
   "execution_count": 41,
   "metadata": {},
   "outputs": [
    {
     "data": {
      "image/png": "[encoded data removed]",
      "text/plain": [
       "<Figure size 1080x216 with 4 Axes>"
      ]
     },
     "metadata": {},
     "output_type": "display_data"
    }
   ],
   "source": [
    "# Confusion matrix\n",
    "plot_confusionmatrix(dt, 2, X_train_scaled, X_val_scaled)"
   ]
  },
  {
   "cell_type": "code",
   "execution_count": 42,
   "metadata": {},
   "outputs": [
    {
     "data": {
      "text/plain": [
       "monetary       0.609520\n",
       "social         0.106577\n",
       "reward         0.080602\n",
       "frequency      0.063414\n",
       "duration       0.038556\n",
       "income         0.030457\n",
       "bogo_offer     0.014574\n",
       "difficulty     0.014423\n",
       "age            0.011247\n",
       "disc_offer     0.011211\n",
       "tenure         0.007741\n",
       "spend_group    0.006489\n",
       "info_offer     0.002391\n",
       "male           0.001994\n",
       "web            0.000804\n",
       "mobile         0.000000\n",
       "dtype: float64"
      ]
     },
     "execution_count": 42,
     "metadata": {},
     "output_type": "execute_result"
    }
   ],
   "source": [
    "# Feature importances\n",
    "pd.Series(dt.feature_importances_, index=X_train_scaled.columns).sort_values(ascending=False)"
   ]
  },
  {
   "cell_type": "markdown",
   "metadata": {},
   "source": [
    "Just as with logistic regression, `monetary`, `social`, and `frequency` are the top 3 most important features in the same order. So the decision tree algorithm agrees that the most important predictors are the user's spending habits and social media. "
   ]
  },
  {
   "cell_type": "markdown",
   "metadata": {},
   "source": [
    "#### 7. Random forest"
   ]
  },
  {
   "cell_type": "code",
   "execution_count": 43,
   "metadata": {
    "scrolled": true
   },
   "outputs": [
    {
     "name": "stdout",
     "output_type": "stream",
     "text": [
      "Fitting 4 folds for each of 1024 candidates, totalling 4096 fits\n"
     ]
    },
    {
     "name": "stderr",
     "output_type": "stream",
     "text": [
      "[Parallel(n_jobs=4)]: Using backend LokyBackend with 4 concurrent workers.\n",
      "[Parallel(n_jobs=4)]: Done  33 tasks      | elapsed:   22.0s\n",
      "[Parallel(n_jobs=4)]: Done 154 tasks      | elapsed:  1.9min\n",
      "[Parallel(n_jobs=4)]: Done 357 tasks      | elapsed:  5.3min\n",
      "[Parallel(n_jobs=4)]: Done 640 tasks      | elapsed: 11.0min\n",
      "[Parallel(n_jobs=4)]: Done 1005 tasks      | elapsed: 27.6min\n",
      "[Parallel(n_jobs=4)]: Done 1450 tasks      | elapsed: 32.5min\n",
      "[Parallel(n_jobs=4)]: Done 1977 tasks      | elapsed: 43.0min\n",
      "[Parallel(n_jobs=4)]: Done 2584 tasks      | elapsed: 52.1min\n",
      "[Parallel(n_jobs=4)]: Done 3273 tasks      | elapsed: 65.9min\n",
      "[Parallel(n_jobs=4)]: Done 4042 tasks      | elapsed: 125.2min\n",
      "[Parallel(n_jobs=4)]: Done 4096 out of 4096 | elapsed: 128.7min finished\n"
     ]
    },
    {
     "name": "stdout",
     "output_type": "stream",
     "text": [
      "0.8234131545875452\n",
      "{'max_depth': None, 'max_features': 0.5, 'max_samples': 0.4, 'min_samples_leaf': 10, 'min_samples_split': 60}\n",
      "Wall time: 2h 8min 49s\n"
     ]
    }
   ],
   "source": [
    "%%time\n",
    "\n",
    "# Grid search\n",
    "rf = RandomForestClassifier(random_state=0)\n",
    "rf_params = {'max_samples': [0.4, 0.6, 0.8, None],\n",
    "             'max_features': [0.25, 0.5, 0.75, None],\n",
    "             'max_depth': [8, 10, 12, None],\n",
    "             'min_samples_split': [100, 60, 20, 2],\n",
    "             'min_samples_leaf': [50, 30, 10, 1]}\n",
    "\n",
    "rf_search = GridSearchCV(rf, rf_params, scoring='roc_auc', cv=4, n_jobs=4, verbose=2)\n",
    "rf_search.fit(X_train_scaled, Y_train)\n",
    "print(rf_search.best_score_)\n",
    "print(rf_search.best_params_)"
   ]
  },
  {
   "cell_type": "code",
   "execution_count": 44,
   "metadata": {},
   "outputs": [
    {
     "name": "stdout",
     "output_type": "stream",
     "text": [
      "              precision    recall  f1-score   support\n",
      "\n",
      "           0       0.79      0.73      0.76     13806\n",
      "           1       0.75      0.81      0.78     14036\n",
      "\n",
      "    accuracy                           0.77     27842\n",
      "   macro avg       0.77      0.77      0.77     27842\n",
      "weighted avg       0.77      0.77      0.77     27842\n",
      "\n",
      "              precision    recall  f1-score   support\n",
      "\n",
      "           0       0.77      0.72      0.74      7060\n",
      "           1       0.73      0.78      0.76      6861\n",
      "\n",
      "    accuracy                           0.75     13921\n",
      "   macro avg       0.75      0.75      0.75     13921\n",
      "weighted avg       0.75      0.75      0.75     13921\n",
      "\n",
      "Wall time: 17.9 s\n",
      "Parser   : 121 ms\n"
     ]
    }
   ],
   "source": [
    "%%time\n",
    "\n",
    "# Train model\n",
    "rf = RandomForestClassifier(n_estimators=1000,\n",
    "                            max_samples=0.8,\n",
    "                            max_features=0.5,\n",
    "                            min_samples_split=100,\n",
    "                            min_samples_leaf=10,\n",
    "                            random_state=0,\n",
    "                            n_jobs=-1)\n",
    "rf.fit(X_train_scaled, Y_train)\n",
    "\n",
    "# Make predictions\n",
    "rf_train_pred = rf.predict(X_train_scaled)\n",
    "rf_val_pred = rf.predict(X_val_scaled)\n",
    "\n",
    "# Evaluate predictions\n",
    "print(report(Y_train, rf_train_pred))\n",
    "print(report(Y_valid, rf_val_pred))"
   ]
  },
  {
   "cell_type": "code",
   "execution_count": 45,
   "metadata": {},
   "outputs": [
    {
     "data": {
      "image/png": "[encoded data removed]",
      "text/plain": [
       "<Figure size 1080x216 with 4 Axes>"
      ]
     },
     "metadata": {},
     "output_type": "display_data"
    }
   ],
   "source": [
    "# Confusion matrix\n",
    "plot_confusionmatrix(rf, 2, X_train_scaled, X_val_scaled)"
   ]
  },
  {
   "cell_type": "code",
   "execution_count": 46,
   "metadata": {},
   "outputs": [
    {
     "data": {
      "text/plain": [
       "monetary       0.363497\n",
       "spend_group    0.147780\n",
       "frequency      0.103544\n",
       "social         0.100120\n",
       "income         0.057608\n",
       "tenure         0.045053\n",
       "age            0.041111\n",
       "reward         0.039779\n",
       "difficulty     0.027711\n",
       "disc_offer     0.020832\n",
       "duration       0.018059\n",
       "mobile         0.013611\n",
       "bogo_offer     0.008280\n",
       "web            0.006508\n",
       "male           0.003719\n",
       "info_offer     0.002791\n",
       "dtype: float64"
      ]
     },
     "execution_count": 46,
     "metadata": {},
     "output_type": "execute_result"
    }
   ],
   "source": [
    "# Feature importances\n",
    "pd.Series(rf.feature_importances_, index=X_train_scaled.columns).sort_values(ascending=False)"
   ]
  },
  {
   "cell_type": "markdown",
   "metadata": {},
   "source": [
    "Since random forest is just ensembling decision trees, the top 4 features are `monetary`, `spend_group`, `frequency`, and `social`, although the coefficients did change.\n",
    "\n",
    "The same 4 parameters tuned with decision tree are done here as well with the same values. `Max_samples` are added to the grid to add more randomness to the model. This parameter limits the size of the training data each tree is trained on.  The best values are:\n",
    "- `max_samples`: 0.4\n",
    "- `max_features`: 0.5\n",
    "- `max_depth`: None\n",
    "- `min_samples_split`: 60\n",
    "- `min_samples_leaf`: 10\n",
    "\n",
    "Random forest does better than decision tree."
   ]
  },
  {
   "cell_type": "markdown",
   "metadata": {},
   "source": [
    "Up till now, SVM and random forest have done the best, both with an F1-score of 0.74 and 0.75 on the validation set. Random forest does slightly better, but it does take a lot more time and resource to run, so there's that tradeoff. We will compare both on the final test set."
   ]
  },
  {
   "cell_type": "markdown",
   "metadata": {},
   "source": [
    "#### 8. Final classifier"
   ]
  },
  {
   "cell_type": "code",
   "execution_count": 47,
   "metadata": {},
   "outputs": [
    {
     "name": "stdout",
     "output_type": "stream",
     "text": [
      "              precision    recall  f1-score   support\n",
      "\n",
      "           0       0.78      0.68      0.72      7060\n",
      "           1       0.71      0.80      0.75      6861\n",
      "\n",
      "    accuracy                           0.74     13921\n",
      "   macro avg       0.74      0.74      0.74     13921\n",
      "weighted avg       0.74      0.74      0.74     13921\n",
      "\n",
      "              precision    recall  f1-score   support\n",
      "\n",
      "           0       0.77      0.68      0.72      6976\n",
      "           1       0.71      0.80      0.75      6945\n",
      "\n",
      "    accuracy                           0.74     13921\n",
      "   macro avg       0.74      0.74      0.74     13921\n",
      "weighted avg       0.74      0.74      0.74     13921\n",
      "\n"
     ]
    }
   ],
   "source": [
    "# SVM predictions on test set\n",
    "svm_test_pred = svm.predict(X_test_scaled)\n",
    "\n",
    "# Evaluate predictions\n",
    "print(report(Y_valid, svm_val_pred))\n",
    "print(report(Y_testv, svm_test_pred))"
   ]
  },
  {
   "cell_type": "code",
   "execution_count": 48,
   "metadata": {},
   "outputs": [
    {
     "data": {
      "image/png": "[encoded data removed]",
      "text/plain": [
       "<Figure size 1080x216 with 6 Axes>"
      ]
     },
     "metadata": {},
     "output_type": "display_data"
    }
   ],
   "source": [
    "### Confusion matrix\n",
    "plot_confusionmatrix(svm, 3, X_train_scaled, X_val_scaled, X_test_scaled)"
   ]
  },
  {
   "cell_type": "code",
   "execution_count": 49,
   "metadata": {},
   "outputs": [
    {
     "name": "stdout",
     "output_type": "stream",
     "text": [
      "              precision    recall  f1-score   support\n",
      "\n",
      "           0       0.77      0.72      0.74      7060\n",
      "           1       0.73      0.78      0.76      6861\n",
      "\n",
      "    accuracy                           0.75     13921\n",
      "   macro avg       0.75      0.75      0.75     13921\n",
      "weighted avg       0.75      0.75      0.75     13921\n",
      "\n",
      "              precision    recall  f1-score   support\n",
      "\n",
      "           0       0.76      0.71      0.73      6976\n",
      "           1       0.73      0.78      0.75      6945\n",
      "\n",
      "    accuracy                           0.74     13921\n",
      "   macro avg       0.75      0.74      0.74     13921\n",
      "weighted avg       0.75      0.74      0.74     13921\n",
      "\n"
     ]
    }
   ],
   "source": [
    "# Random forest predictions on test set\n",
    "rf_test_pred = rf.predict(X_test_scaled)\n",
    "\n",
    "# Evaluate predictions\n",
    "print(report(Y_valid, rf_val_pred))\n",
    "print(report(Y_testv, rf_test_pred))"
   ]
  },
  {
   "cell_type": "code",
   "execution_count": 51,
   "metadata": {},
   "outputs": [
    {
     "data": {
      "image/png": "[encoded data removed]",
      "text/plain": [
       "<Figure size 1080x216 with 6 Axes>"
      ]
     },
     "metadata": {},
     "output_type": "display_data"
    }
   ],
   "source": [
    "### Confusion matrix\n",
    "plot_confusionmatrix(rf, 3, X_train_scaled, X_val_scaled, X_test_scaled)"
   ]
  },
  {
   "cell_type": "markdown",
   "metadata": {},
   "source": [
    "We will be going with random forest as it outperformed SVM in both the validation and test sets. By examining its predictions, we may be able to see differences in demographics and behavior. This is actually a similar approach to segmentation, but we won't be segmenting customers. Instead, we are segmenting the unique offers that went out to customers."
   ]
  },
  {
   "cell_type": "code",
   "execution_count": 52,
   "metadata": {},
   "outputs": [
    {
     "name": "stdout",
     "output_type": "stream",
     "text": [
      "(55684, 16)\n"
     ]
    },
    {
     "data": {
      "text/html": [
       "<div>\n",
       "<style scoped>\n",
       "    .dataframe tbody tr th:only-of-type {\n",
       "        vertical-align: middle;\n",
       "    }\n",
       "\n",
       "    .dataframe tbody tr th {\n",
       "        vertical-align: top;\n",
       "    }\n",
       "\n",
       "    .dataframe thead th {\n",
       "        text-align: right;\n",
       "    }\n",
       "</style>\n",
       "<table border=\"1\" class=\"dataframe\">\n",
       "  <thead>\n",
       "    <tr style=\"text-align: right;\">\n",
       "      <th></th>\n",
       "      <th>reward</th>\n",
       "      <th>difficulty</th>\n",
       "      <th>duration</th>\n",
       "      <th>mobile</th>\n",
       "      <th>social</th>\n",
       "      <th>web</th>\n",
       "      <th>age</th>\n",
       "      <th>income</th>\n",
       "      <th>spend_group</th>\n",
       "      <th>frequency</th>\n",
       "      <th>monetary</th>\n",
       "      <th>tenure</th>\n",
       "      <th>info_offer</th>\n",
       "      <th>disc_offer</th>\n",
       "      <th>bogo_offer</th>\n",
       "      <th>male</th>\n",
       "    </tr>\n",
       "  </thead>\n",
       "  <tbody>\n",
       "    <tr>\n",
       "      <th>0</th>\n",
       "      <td>0.243966</td>\n",
       "      <td>-0.485470</td>\n",
       "      <td>0.223610</td>\n",
       "      <td>0.321859</td>\n",
       "      <td>-1.263613</td>\n",
       "      <td>0.50009</td>\n",
       "      <td>1.182039</td>\n",
       "      <td>1.591093</td>\n",
       "      <td>0.781839</td>\n",
       "      <td>-0.253960</td>\n",
       "      <td>0.247765</td>\n",
       "      <td>-0.234072</td>\n",
       "      <td>-0.497788</td>\n",
       "      <td>-0.824874</td>\n",
       "      <td>1.233708</td>\n",
       "      <td>-1.139486</td>\n",
       "    </tr>\n",
       "    <tr>\n",
       "      <th>1</th>\n",
       "      <td>-0.640571</td>\n",
       "      <td>0.433579</td>\n",
       "      <td>0.223610</td>\n",
       "      <td>0.321859</td>\n",
       "      <td>-1.263613</td>\n",
       "      <td>0.50009</td>\n",
       "      <td>0.778388</td>\n",
       "      <td>0.198961</td>\n",
       "      <td>-0.614057</td>\n",
       "      <td>-1.066293</td>\n",
       "      <td>-0.507030</td>\n",
       "      <td>-1.024845</td>\n",
       "      <td>-0.497788</td>\n",
       "      <td>1.212306</td>\n",
       "      <td>-0.810565</td>\n",
       "      <td>0.877589</td>\n",
       "    </tr>\n",
       "    <tr>\n",
       "      <th>2</th>\n",
       "      <td>0.243966</td>\n",
       "      <td>-0.485470</td>\n",
       "      <td>-0.683471</td>\n",
       "      <td>0.321859</td>\n",
       "      <td>0.791382</td>\n",
       "      <td>0.50009</td>\n",
       "      <td>0.605395</td>\n",
       "      <td>-0.589914</td>\n",
       "      <td>-0.963031</td>\n",
       "      <td>-1.066293</td>\n",
       "      <td>-0.665363</td>\n",
       "      <td>-0.881068</td>\n",
       "      <td>-0.497788</td>\n",
       "      <td>-0.824874</td>\n",
       "      <td>1.233708</td>\n",
       "      <td>0.877589</td>\n",
       "    </tr>\n",
       "    <tr>\n",
       "      <th>3</th>\n",
       "      <td>-1.230263</td>\n",
       "      <td>-1.404519</td>\n",
       "      <td>-1.137011</td>\n",
       "      <td>0.321859</td>\n",
       "      <td>-1.263613</td>\n",
       "      <td>0.50009</td>\n",
       "      <td>0.201744</td>\n",
       "      <td>-0.682722</td>\n",
       "      <td>-1.312005</td>\n",
       "      <td>-1.066293</td>\n",
       "      <td>-0.820053</td>\n",
       "      <td>-0.665403</td>\n",
       "      <td>2.008888</td>\n",
       "      <td>-0.824874</td>\n",
       "      <td>-0.810565</td>\n",
       "      <td>0.877589</td>\n",
       "    </tr>\n",
       "    <tr>\n",
       "      <th>4</th>\n",
       "      <td>0.243966</td>\n",
       "      <td>2.271678</td>\n",
       "      <td>1.584231</td>\n",
       "      <td>-3.106951</td>\n",
       "      <td>-1.263613</td>\n",
       "      <td>0.50009</td>\n",
       "      <td>0.374738</td>\n",
       "      <td>-0.404296</td>\n",
       "      <td>-0.265083</td>\n",
       "      <td>-0.457043</td>\n",
       "      <td>-0.300231</td>\n",
       "      <td>-0.521626</td>\n",
       "      <td>-0.497788</td>\n",
       "      <td>1.212306</td>\n",
       "      <td>-0.810565</td>\n",
       "      <td>-1.139486</td>\n",
       "    </tr>\n",
       "  </tbody>\n",
       "</table>\n",
       "</div>"
      ],
      "text/plain": [
       "     reward  difficulty  duration    mobile    social      web       age  \\\n",
       "0  0.243966   -0.485470  0.223610  0.321859 -1.263613  0.50009  1.182039   \n",
       "1 -0.640571    0.433579  0.223610  0.321859 -1.263613  0.50009  0.778388   \n",
       "2  0.243966   -0.485470 -0.683471  0.321859  0.791382  0.50009  0.605395   \n",
       "3 -1.230263   -1.404519 -1.137011  0.321859 -1.263613  0.50009  0.201744   \n",
       "4  0.243966    2.271678  1.584231 -3.106951 -1.263613  0.50009  0.374738   \n",
       "\n",
       "     income  spend_group  frequency  monetary    tenure  info_offer  \\\n",
       "0  1.591093     0.781839  -0.253960  0.247765 -0.234072   -0.497788   \n",
       "1  0.198961    -0.614057  -1.066293 -0.507030 -1.024845   -0.497788   \n",
       "2 -0.589914    -0.963031  -1.066293 -0.665363 -0.881068   -0.497788   \n",
       "3 -0.682722    -1.312005  -1.066293 -0.820053 -0.665403    2.008888   \n",
       "4 -0.404296    -0.265083  -0.457043 -0.300231 -0.521626   -0.497788   \n",
       "\n",
       "   disc_offer  bogo_offer      male  \n",
       "0   -0.824874    1.233708 -1.139486  \n",
       "1    1.212306   -0.810565  0.877589  \n",
       "2   -0.824874    1.233708  0.877589  \n",
       "3   -0.824874   -0.810565  0.877589  \n",
       "4    1.212306   -0.810565 -1.139486  "
      ]
     },
     "execution_count": 52,
     "metadata": {},
     "output_type": "execute_result"
    }
   ],
   "source": [
    "# Normalize the entire dataset\n",
    "X_scaled = scaler.fit_transform(X)\n",
    "X_scaled = pd.DataFrame(X_scaled, columns=X.columns)\n",
    "print(X_scaled.shape)\n",
    "X_scaled.head()"
   ]
  },
  {
   "cell_type": "code",
   "execution_count": 53,
   "metadata": {},
   "outputs": [
    {
     "name": "stdout",
     "output_type": "stream",
     "text": [
      "              precision    recall  f1-score   support\n",
      "\n",
      "           0       0.78      0.72      0.75     27842\n",
      "           1       0.74      0.79      0.77     27842\n",
      "\n",
      "    accuracy                           0.76     55684\n",
      "   macro avg       0.76      0.76      0.76     55684\n",
      "weighted avg       0.76      0.76      0.76     55684\n",
      "\n"
     ]
    },
    {
     "data": {
      "image/png": "[encoded data removed]",
      "text/plain": [
       "<Figure size 432x288 with 2 Axes>"
      ]
     },
     "metadata": {},
     "output_type": "display_data"
    }
   ],
   "source": [
    "# Make predictions on the entire dataset\n",
    "rf_pred = rf.predict(X_scaled)\n",
    "\n",
    "# Evaluate predictions\n",
    "print(report(Y, rf_pred))\n",
    "plot_confusion_matrix(rf, X_scaled, Y, cmap='Blues')\n",
    "plt.title('Confusion Matrix')\n",
    "plt.grid(False);"
   ]
  },
  {
   "cell_type": "code",
   "execution_count": 54,
   "metadata": {},
   "outputs": [
    {
     "data": {
      "text/html": [
       "<div>\n",
       "<style scoped>\n",
       "    .dataframe tbody tr th:only-of-type {\n",
       "        vertical-align: middle;\n",
       "    }\n",
       "\n",
       "    .dataframe tbody tr th {\n",
       "        vertical-align: top;\n",
       "    }\n",
       "\n",
       "    .dataframe thead th {\n",
       "        text-align: right;\n",
       "    }\n",
       "</style>\n",
       "<table border=\"1\" class=\"dataframe\">\n",
       "  <thead>\n",
       "    <tr style=\"text-align: right;\">\n",
       "      <th></th>\n",
       "      <th>reward</th>\n",
       "      <th>difficulty</th>\n",
       "      <th>duration</th>\n",
       "      <th>mobile</th>\n",
       "      <th>social</th>\n",
       "      <th>web</th>\n",
       "      <th>age</th>\n",
       "      <th>income</th>\n",
       "      <th>spend_group</th>\n",
       "      <th>frequency</th>\n",
       "      <th>monetary</th>\n",
       "      <th>tenure</th>\n",
       "      <th>info_offer</th>\n",
       "      <th>disc_offer</th>\n",
       "      <th>bogo_offer</th>\n",
       "      <th>male</th>\n",
       "    </tr>\n",
       "  </thead>\n",
       "  <tbody>\n",
       "    <tr>\n",
       "      <th>0</th>\n",
       "      <td>4.289407</td>\n",
       "      <td>8.550718</td>\n",
       "      <td>6.666589</td>\n",
       "      <td>0.827083</td>\n",
       "      <td>0.425287</td>\n",
       "      <td>0.822903</td>\n",
       "      <td>52.874686</td>\n",
       "      <td>62490.421456</td>\n",
       "      <td>3.795232</td>\n",
       "      <td>5.972638</td>\n",
       "      <td>62.342470</td>\n",
       "      <td>14.462402</td>\n",
       "      <td>0.196099</td>\n",
       "      <td>0.406053</td>\n",
       "      <td>0.397848</td>\n",
       "      <td>0.629939</td>\n",
       "    </tr>\n",
       "    <tr>\n",
       "      <th>1</th>\n",
       "      <td>4.071402</td>\n",
       "      <td>6.853677</td>\n",
       "      <td>6.368772</td>\n",
       "      <td>0.974569</td>\n",
       "      <td>0.779058</td>\n",
       "      <td>0.780064</td>\n",
       "      <td>55.909767</td>\n",
       "      <td>68501.993634</td>\n",
       "      <td>7.460312</td>\n",
       "      <td>10.222650</td>\n",
       "      <td>180.999248</td>\n",
       "      <td>21.540493</td>\n",
       "      <td>0.200737</td>\n",
       "      <td>0.403920</td>\n",
       "      <td>0.395343</td>\n",
       "      <td>0.508628</td>\n",
       "    </tr>\n",
       "    <tr>\n",
       "      <th>2</th>\n",
       "      <td>4.172563</td>\n",
       "      <td>7.641154</td>\n",
       "      <td>6.506968</td>\n",
       "      <td>0.906131</td>\n",
       "      <td>0.614898</td>\n",
       "      <td>0.799943</td>\n",
       "      <td>54.501401</td>\n",
       "      <td>65712.448818</td>\n",
       "      <td>5.759608</td>\n",
       "      <td>8.250521</td>\n",
       "      <td>125.939043</td>\n",
       "      <td>18.256052</td>\n",
       "      <td>0.198585</td>\n",
       "      <td>0.404910</td>\n",
       "      <td>0.396505</td>\n",
       "      <td>0.564920</td>\n",
       "    </tr>\n",
       "  </tbody>\n",
       "</table>\n",
       "</div>"
      ],
      "text/plain": [
       "     reward  difficulty  duration    mobile    social       web        age  \\\n",
       "0  4.289407    8.550718  6.666589  0.827083  0.425287  0.822903  52.874686   \n",
       "1  4.071402    6.853677  6.368772  0.974569  0.779058  0.780064  55.909767   \n",
       "2  4.172563    7.641154  6.506968  0.906131  0.614898  0.799943  54.501401   \n",
       "\n",
       "         income  spend_group  frequency    monetary     tenure  info_offer  \\\n",
       "0  62490.421456     3.795232   5.972638   62.342470  14.462402    0.196099   \n",
       "1  68501.993634     7.460312  10.222650  180.999248  21.540493    0.200737   \n",
       "2  65712.448818     5.759608   8.250521  125.939043  18.256052    0.198585   \n",
       "\n",
       "   disc_offer  bogo_offer      male  \n",
       "0    0.406053    0.397848  0.629939  \n",
       "1    0.403920    0.395343  0.508628  \n",
       "2    0.404910    0.396505  0.564920  "
      ]
     },
     "execution_count": 54,
     "metadata": {},
     "output_type": "execute_result"
    }
   ],
   "source": [
    "# Inspect average values for each predicted class\n",
    "X['prediction'] = rf_pred\n",
    "label_means = X.groupby('prediction').mean()\n",
    "label_means = label_means.append(X.mean()[:-1], ignore_index=True)\n",
    "label_means"
   ]
  },
  {
   "cell_type": "code",
   "execution_count": 57,
   "metadata": {},
   "outputs": [
    {
     "data": {
      "text/plain": [
       "([<matplotlib.axis.XTick at 0x27bad59ba90>,\n",
       "  <matplotlib.axis.XTick at 0x27bad59b340>,\n",
       "  <matplotlib.axis.XTick at 0x27bad67c700>,\n",
       "  <matplotlib.axis.XTick at 0x27bad6b3af0>,\n",
       "  <matplotlib.axis.XTick at 0x27bad6716d0>,\n",
       "  <matplotlib.axis.XTick at 0x27bad69e5b0>,\n",
       "  <matplotlib.axis.XTick at 0x27bad69e520>,\n",
       "  <matplotlib.axis.XTick at 0x27bad69ef40>,\n",
       "  <matplotlib.axis.XTick at 0x27bad6a29d0>,\n",
       "  <matplotlib.axis.XTick at 0x27bad6a2430>,\n",
       "  <matplotlib.axis.XTick at 0x27ba7e16610>,\n",
       "  <matplotlib.axis.XTick at 0x27bad6a7fa0>,\n",
       "  <matplotlib.axis.XTick at 0x27bad6a2eb0>,\n",
       "  <matplotlib.axis.XTick at 0x27bad69ea90>,\n",
       "  <matplotlib.axis.XTick at 0x27bad5974f0>,\n",
       "  <matplotlib.axis.XTick at 0x27bad6a7880>],\n",
       " [Text(0, 0, 'reward'),\n",
       "  Text(1, 0, 'difficulty'),\n",
       "  Text(2, 0, 'duration'),\n",
       "  Text(3, 0, 'mobile'),\n",
       "  Text(4, 0, 'social'),\n",
       "  Text(5, 0, 'web'),\n",
       "  Text(6, 0, 'age'),\n",
       "  Text(7, 0, 'income'),\n",
       "  Text(8, 0, 'spend_group'),\n",
       "  Text(9, 0, 'frequency'),\n",
       "  Text(10, 0, 'monetary'),\n",
       "  Text(11, 0, 'tenure'),\n",
       "  Text(12, 0, 'info_offer'),\n",
       "  Text(13, 0, 'disc_offer'),\n",
       "  Text(14, 0, 'bogo_offer'),\n",
       "  Text(15, 0, 'male')])"
      ]
     },
     "execution_count": 57,
     "metadata": {},
     "output_type": "execute_result"
    },
    {
     "data": {
      "image/png": "[encoded data removed]",
      "text/plain": [
       "<Figure size 1152x288 with 1 Axes>"
      ]
     },
     "metadata": {},
     "output_type": "display_data"
    }
   ],
   "source": [
    "# Snake plot\n",
    "pd.DataFrame(StandardScaler().fit_transform(label_means), index=[0, 1, 'Overall'], columns=label_means.columns).T.plot(figsize=(16, 4))\n",
    "plt.xticks(range(16), label_means.columns)"
   ]
  },
  {
   "cell_type": "code",
   "execution_count": 60,
   "metadata": {},
   "outputs": [
    {
     "data": {
      "image/png": "[encoded data removed]",
      "text/plain": [
       "<Figure size 720x1296 with 12 Axes>"
      ]
     },
     "metadata": {},
     "output_type": "display_data"
    }
   ],
   "source": [
    "# Plot distribution for each feature by their predicted label\n",
    "label0 = X.query('prediction == 0')\n",
    "label1 = X.query('prediction == 1')\n",
    "feats = ['male', 'age', 'income', 'frequency', 'monetary', 'tenure']\n",
    "\n",
    "fig, ax = plt.subplots(6, 2, figsize=(10, 18))\n",
    "ax[0, 0].set_title('Label 0', fontsize='x-large')\n",
    "ax[0, 1].set_title('Label 1', fontsize='x-large')\n",
    "for i in range(6):\n",
    "    sns.histplot(x=label0[feats[i]], bins=20, color=sns.color_palette()[3], ax=ax[i, 0])\n",
    "    sns.histplot(x=label1[feats[i]], bins=20, color=sns.color_palette()[2], ax=ax[i, 1])\n",
    "plt.tight_layout()"
   ]
  },
  {
   "cell_type": "code",
   "execution_count": 59,
   "metadata": {},
   "outputs": [
    {
     "data": {
      "text/plain": [
       "53503"
      ]
     },
     "execution_count": 59,
     "metadata": {},
     "output_type": "execute_result"
    }
   ],
   "source": [
    "del target_corr, label_means, label0, label1, feats, fig, ax, i\n",
    "gc.collect()"
   ]
  },
  {
   "cell_type": "markdown",
   "metadata": {},
   "source": [
    "We can see that the classifier is capturing a lot of the same patterns seen in earlier analysis.\n",
    "- Female customers are more likely to complete offers\n",
    "- Customers under the `age` of 40 are more likely to NOT complete offers\n",
    "- As `income` and spending habits increase, the customer is more likely to complete offers\n",
    "- Users who have been using the app for more than a year are more likely to complete offers"
   ]
  },
  {
   "cell_type": "markdown",
   "metadata": {},
   "source": [
    "## <a id=\"conc\">Part IV: Conclusion</a>"
   ]
  },
  {
   "cell_type": "markdown",
   "metadata": {},
   "source": [
    "I built a classifier that predicts whether a user will complete an offer or not. The process began with some data preprocessing, which included extracting the received offers, encoding the categorical variables into numerical data, creating the target label (defined as 1 if the user viewed and then completed the offer or 0 otherwise).\n",
    "\n",
    "I also inspected feature correlation in order to create a separate feature set for logistic regression, which has an assumption of non-multicollinearity. The last step is to split the data into 3 sets and normalize the features in all 3 sets:\n",
    "- Training set (50%) - used to fit the machine learning models\n",
    "- Validation set (25%) - used to validate model building and parameter tuning\n",
    "- Test set (25%) - holdout set for the final test\n",
    "\n",
    "Out of the 5 models - [logistic regression](#clfr3), [k-nearest neighbors](#clfr4), [support vector machines](#clfr5), [decision tree](#clfr6), [random forest](#clfr7) - the random forest classifier is the best predictior with F1 score 0.74 on the validation set and 0.75 on the test set."
   ]
  },
  {
   "cell_type": "markdown",
   "metadata": {},
   "source": [
    "### Save data"
   ]
  },
  {
   "cell_type": "code",
   "execution_count": 61,
   "metadata": {},
   "outputs": [
    {
     "data": {
      "text/plain": [
       "(55684, 17)"
      ]
     },
     "execution_count": 61,
     "metadata": {},
     "output_type": "execute_result"
    }
   ],
   "source": [
    "df.to_pickle('../data/output3/train.pkl')\n",
    "joblib.dump(scaler, '../data/output3/scaler.pkl')\n",
    "joblib.dump(rf, '../data/output3/rfc.pkl')\n",
    "df.shape"
   ]
  }
 ],
 "metadata": {
  "kernelspec": {
   "display_name": "Python 3",
   "language": "python",
   "name": "python3"
  },
  "language_info": {
   "codemirror_mode": {
    "name": "ipython",
    "version": 3
   },
   "file_extension": ".py",
   "mimetype": "text/x-python",
   "name": "python",
   "nbconvert_exporter": "python",
   "pygments_lexer": "ipython3",
   "version": "3.8.5"
  }
 },
 "nbformat": 4,
 "nbformat_minor": 4
}
